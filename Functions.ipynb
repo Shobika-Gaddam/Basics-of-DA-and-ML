{
 "cells": [
  {
   "cell_type": "markdown",
   "id": "19297fec",
   "metadata": {},
   "source": [
    "## Functions\n",
    "#2 Arguments in function \n",
    "#3 return statement in python\n",
    "\n",
    "#1\n",
    "-- A function is a block of code that performs a specific task. \n",
    "-- Functions are used to break down larger programs into smaller and more manageable chunks, \n",
    "making it easier to read, test, and debug code.\n",
    "-- Functions can take input arguments, perform operations on them, and return output values.\n",
    "-- To define a function in Python, you use the def keyword followed by the function name, \n",
    "input parameters (if any), and a colon. The function body is then indented and contains the code to be executed.\n",
    "\n",
    "Here's an example of a simple Python function that takes two arguments and returns their sum:\n",
    "def add_numbers(a, b):\n",
    "    sum = a + b\n",
    "    return sum\n",
    "\n",
    "add_numbers(4,5) # calling the function\n",
    "without calling the function cannot run\n",
    "\n",
    "#2\n",
    "Arguments in python\n",
    "-- whatever variable is used inside a function during the defining of the function is called a formal argument.\n",
    "-- whatever value you passed during the calling is called actual arguments.\n",
    "\n",
    "\n",
    "#3\n",
    "-- The return statement is used to exit a function and return a value. \n",
    "-- The return statement can be used to return a value from a function. \n",
    "-- The return statement can also be used to exit a function without returning a value.\n",
    "-- If the return statement is without any expression, then the special value None is returned.\n",
    "-- Functions without a return statement return None as their result.\n",
    "def add_sub(x,y):\n",
    "    c = x+y\n",
    "    d = x-y\n",
    "    return c,d\n",
    "\n",
    "result1,result2 = add_sub(4,5)\n",
    "print(result1,result2)  \n",
    "\n",
    "The above code defines a Python function called add_sub that takes two input arguments x and y. The function first adds x and y and stores the result in a variable called c. It then subtracts y from x and stores the result in a variable called d. Finally, it returns both c and d as a tuple.\n",
    "\n",
    "The function can be called with two arguments, as shown in the line result1,result2 = add_sub(4,5). This line assigns the values returned by the add_sub function to the variables result1 and result2, respectively. The print statement then outputs the values of result1 and result2 to the console."
   ]
  },
  {
   "cell_type": "code",
   "execution_count": 1,
   "id": "c2f12a11",
   "metadata": {},
   "outputs": [
    {
     "name": "stdout",
     "output_type": "stream",
     "text": [
      "Good Morning\n"
     ]
    }
   ],
   "source": [
    "def greet():\n",
    "    print(\"Good Morning\")\n",
    "    \n",
    "greet()"
   ]
  },
  {
   "cell_type": "code",
   "execution_count": 2,
   "id": "ce6601bf",
   "metadata": {},
   "outputs": [
    {
     "name": "stdout",
     "output_type": "stream",
     "text": [
      "3\n"
     ]
    }
   ],
   "source": [
    "def add(x,y):\n",
    "    c = x+y\n",
    "    print(c)\n",
    "    \n",
    "add(1,2)"
   ]
  },
  {
   "cell_type": "code",
   "execution_count": 3,
   "id": "558dcb76",
   "metadata": {},
   "outputs": [
    {
     "name": "stdout",
     "output_type": "stream",
     "text": [
      "3 -1\n"
     ]
    }
   ],
   "source": [
    "def add_sub(x,y):\n",
    "    c = x+y\n",
    "    d = x-y\n",
    "    return c,d\n",
    "    \n",
    "result1, result2 = add_sub(1,2)\n",
    "print(result1, result2)"
   ]
  },
  {
   "cell_type": "markdown",
   "id": "71e0d517",
   "metadata": {},
   "source": [
    "#All variables are actually references to objects in memory. Thus, when a function is called with a parameter, the reference to the object is passed by value. \n",
    "\n",
    "#For immutable data types like integers, floats, and strings, changes made to the parameter inside the function do not affect the original value of the parameter outside the function. This is because any changes made to the parameter create a new object in memory, and the original reference to the object remains unchanged.\n",
    "\n",
    "#For mutable data types like lists and dictionaries, changes made to the parameter inside the function do affect the original value of the parameter outside the function. This is because the reference to the object remains the same, but the contents of the object can be modified.\n",
    "\n",
    "def update(lst):\n",
    "    print(id(lst))\n",
    "\n",
    "\n",
    "    lst[1]=25\n",
    "    print(id(lst))\n",
    "    print(\"x\",lst)\n",
    "\n",
    "\n",
    "lst = [10,20,30]\n",
    "print(id(lst))\n",
    "update(lst)\n",
    "print(lst)\n",
    "\n",
    "\n",
    "#The above code defines a Python function called update that takes a list lst as a parameter. The function first prints the memory address of the list using the id() function. It then modifies the second element of the list by assigning it the value 25. The function then prints the new memory address of the list and the updated list.\n",
    "\n",
    "#The code then creates a list called lst with the values [10, 20, 30] and prints its memory address using the id() function. The update function is then called with the lst parameter. Since lists are mutable objects in Python, the memory address of the list is passed to the function, making it a pass by reference.\n",
    "\n",
    "#Inside the update function, the second element of the list is modified to 25. Since lists are mutable objects and the memory address of the original list is passed to the function, this change affects the original list outside the function. The new memory address and the updated list are printed inside the function."
   ]
  },
  {
   "cell_type": "code",
   "execution_count": 4,
   "id": "7addc2be",
   "metadata": {},
   "outputs": [
    {
     "name": "stdout",
     "output_type": "stream",
     "text": [
      "x 8\n",
      "2082050408912\n",
      "a 10\n",
      "2082050408976\n"
     ]
    }
   ],
   "source": [
    "def update(x):\n",
    "    x = 8\n",
    "    print(\"x\",x)\n",
    "    print(id(x))\n",
    "\n",
    "a = 10\n",
    "update(a)\n",
    "print(\"a\",a)\n",
    "print(id(a))"
   ]
  },
  {
   "cell_type": "code",
   "execution_count": 5,
   "id": "05fe47f9",
   "metadata": {},
   "outputs": [
    {
     "name": "stdout",
     "output_type": "stream",
     "text": [
      "2082131317504\n",
      "x [10, 25, 30]\n",
      "2082131317504\n",
      "a [10, 25, 30]\n",
      "2082131317504\n"
     ]
    }
   ],
   "source": [
    "def update(lst):\n",
    "    print(id(lst))\n",
    "    lst[1] = 25\n",
    "    print(\"x\",lst)\n",
    "    print(id(lst))\n",
    "\n",
    "lst = [10,20,30]\n",
    "update(lst)\n",
    "print(\"a\",lst)\n",
    "print(id(lst))"
   ]
  },
  {
   "cell_type": "markdown",
   "id": "19dfbb75",
   "metadata": {},
   "source": [
    "## Types Of Arguments\n",
    "\n",
    "-- formal argument\n",
    "-- actual argument \n",
    "\n",
    "   Actual arguments have 4 types:\n",
    "1)position \n",
    "2)keyword\n",
    "3)default\n",
    "4)variable length argument  \n",
    "\n",
    "Position argument:\n",
    "-- During a function call, values passed through arguments should be in the order of parameters in the function definition. This is called positional arguments.\n",
    "e.g\n",
    "def person(name,age):\n",
    "    print(name)\n",
    "    print(age)\n",
    "add(5,6)\n",
    "\n",
    "keyword argument:\n",
    "-- During a function call, values passed through arguments don’t need to be in the order of parameters in the function definition. Keyword arguments can achieve this. \n",
    "-- All the keyword arguments should match the parameters in the function definition.\n",
    "e.g \n",
    "person(age=28,name='navin') \n",
    "\n",
    "default argument: \n",
    "-- Default arguments are values that are provided while defining functions.\n",
    "-- The assignment operator = is used to assign a default value to the argument.\n",
    "-- Default arguments become optional during the function calls.\n",
    "-- If we provide a value to the default arguments during function calls, it overrides the default value.\n",
    "-- The function can have any number of default arguments.\n",
    "-- Default arguments should follow non-default arguments.\n",
    "\n",
    "e.g\n",
    "def person(name,age=28):\n",
    "    print(name)\n",
    "    print(age)\n",
    "person('navin')\n",
    "\n",
    "variable length argument:\n",
    "-- if you want to pass multiple value in a function call we can use variable length argument\n",
    "def sum(a,*b):\n",
    "    print(a)\n",
    "    print(b)\n",
    "    c=a\n",
    "    for i in b:\n",
    "       c=c+i\n",
    "    print(c)\n",
    "\n",
    "sum(5,6,34,78)"
   ]
  },
  {
   "cell_type": "code",
   "execution_count": 6,
   "id": "c9a1e197",
   "metadata": {},
   "outputs": [
    {
     "name": "stdout",
     "output_type": "stream",
     "text": [
      "10\n"
     ]
    }
   ],
   "source": [
    "def add(a,b):\n",
    "    c = a+b\n",
    "    print(c)\n",
    "    \n",
    "add(9,1)"
   ]
  },
  {
   "cell_type": "code",
   "execution_count": 7,
   "id": "dcc5ee0e",
   "metadata": {},
   "outputs": [
    {
     "name": "stdout",
     "output_type": "stream",
     "text": [
      "Shobika\n",
      "23\n"
     ]
    }
   ],
   "source": [
    "def person(name, age):\n",
    "    print(name)\n",
    "    print(age)\n",
    "    \n",
    "person('Shobika',23)"
   ]
  },
  {
   "cell_type": "code",
   "execution_count": 8,
   "id": "3f202cdf",
   "metadata": {},
   "outputs": [
    {
     "name": "stdout",
     "output_type": "stream",
     "text": [
      "Shobika\n",
      "22\n"
     ]
    }
   ],
   "source": [
    "def person(age, name):\n",
    "    print(name)\n",
    "    print(age-1)\n",
    "    \n",
    "person(name='Shobika',age=23)"
   ]
  },
  {
   "cell_type": "code",
   "execution_count": 9,
   "id": "d4f1a7f2",
   "metadata": {},
   "outputs": [
    {
     "name": "stdout",
     "output_type": "stream",
     "text": [
      "9\n",
      "(1, 6, 4, 5)\n"
     ]
    }
   ],
   "source": [
    "def add(a,*b):\n",
    "    #c = a+b\n",
    "    print(a)\n",
    "    print(b)\n",
    "    \n",
    "add(9,1,6,4,5)"
   ]
  },
  {
   "cell_type": "code",
   "execution_count": 10,
   "id": "0473cc63",
   "metadata": {},
   "outputs": [
    {
     "name": "stdout",
     "output_type": "stream",
     "text": [
      "25\n"
     ]
    }
   ],
   "source": [
    "def add(*b):\n",
    "    c = 0\n",
    "    \n",
    "    for i in b:\n",
    "        c=c+i\n",
    "    \n",
    "    print(c)\n",
    "    \n",
    "add(9,1,6,4,5)"
   ]
  },
  {
   "cell_type": "markdown",
   "id": "8ddfe0a6",
   "metadata": {},
   "source": [
    "Variable length argument :\n",
    "-- A variable-length argument is a feature that allows a function to accept an arbitrary number of arguments. \n",
    "The syntax for defining a variable-length argument in Python is to use an asterisk (*) before the parameter name.\n",
    "e.g\n",
    "def person(name,*data):\n",
    "    print(name)\n",
    "    print(data)\n",
    "person('navin',28,9765432)\n",
    "\n",
    "keyword variable length argument:\n",
    "-- keyword variable length argument is a feature that allows a function to accept an arbitrary number of keyword arguments.\n",
    "-- use a double asterisk (**) to define a variable-length argument that accepts keyword arguments. For example:\n",
    "--  the **kwargs parameter allows the function to accept an arbitrary number of keyword arguments. The function can then loop over the dictionary of keyword arguments and do something with them.\n",
    "\n",
    "e.g\n",
    "def person(name,**data):  #**kwargs\n",
    "    print(name)\n",
    "     for i, j in data:\n",
    "        print(i,j)  #i is key and j is value\n",
    "person('navin',aget=28,city='Mumbai',mob=9865432)"
   ]
  },
  {
   "cell_type": "code",
   "execution_count": 11,
   "id": "9b4c3cef",
   "metadata": {},
   "outputs": [
    {
     "name": "stdout",
     "output_type": "stream",
     "text": [
      "navin\n",
      "{'age': 28, 'city': 'Mumbai', 'mob': 9865432}\n"
     ]
    }
   ],
   "source": [
    "def person(name,**data):  \n",
    "    print(name)\n",
    "    print(data)\n",
    "    \n",
    "person('navin',age=28,city='Mumbai',mob=9865432)"
   ]
  },
  {
   "cell_type": "code",
   "execution_count": 12,
   "id": "7a6b1954",
   "metadata": {},
   "outputs": [
    {
     "name": "stdout",
     "output_type": "stream",
     "text": [
      "navin\n",
      "{'age': 28, 'city': 'Mumbai', 'mob': 9865432}\n",
      "age 28\n",
      "city Mumbai\n",
      "mob 9865432\n"
     ]
    }
   ],
   "source": [
    "def person(name,**data):  \n",
    "    print(name)\n",
    "    print(data)\n",
    "    for i, j in data.items():\n",
    "        print(i,j)  \n",
    "person('navin',age=28,city='Mumbai',mob=9865432)"
   ]
  },
  {
   "cell_type": "markdown",
   "id": "fd71191b",
   "metadata": {},
   "source": [
    "#1 Scope of variable\n",
    "#2 Local variable\n",
    "#3 Global variable\n",
    "#4 Global keyword\n",
    "#5 Global() function\n",
    "\n",
    "#1 Scope of variable\n",
    "-- scope of variable means where we can access the variable\n",
    "-- there are two types of scope of variable\n",
    "    1. local scope\n",
    "    2. global scope\n",
    "\n",
    "#2 Local variable\n",
    "-- local variable means variable which is defined inside the function\n",
    "-- we can access the local variable inside the function only\n",
    "-- we cannot access the local variable outside the function\n",
    "\n",
    "Local Scope:\n",
    "When a variable or function is defined inside a function, it is said to be in the local scope of that function. \n",
    "Variables defined in the local scope are only accessible within that function and are destroyed once the function \n",
    "completes execution. Local variables have the highest priority in accessing over global variables of the same name.\n",
    "\n",
    "def func():\n",
    "    x = 10\n",
    "    print(x)\n",
    "func()\n",
    "--  the variable x is defined inside the function, and it can only be accessed within the function.\n",
    "\n",
    "#3 Global variable\n",
    "-- global variable means variable which is defined outside the function\n",
    "-- we can access the global variable inside the function\n",
    "-- we can access the global variable outside the function\n",
    "\n",
    "x = 10\n",
    "def func():\n",
    "    print(x)\n",
    "func()\n",
    "\n",
    "-- the variable x is defined outside the function, and it can be accessed within the function.\n",
    "\n",
    "#4 Global keyword\n",
    "-- if we want to access the global variable inside the function and we want to change the value of \n",
    "global variable inside the function then we have to use global keyword.\n",
    "\n",
    "x = 10\n",
    "def func():\n",
    "    global x\n",
    "    x = 15\n",
    "    print(x)\n",
    "func()\n",
    "\n",
    "-- in this case no new variable is created inside the function, \n",
    "but the global variable x is accessed and modified inside the function.\n",
    "\n",
    "#5 Global() function\n",
    "-- if we want to access the global variable inside the function and we want to change the value of  global variable \n",
    "inside the function then we have to use global() function. \n",
    "\n",
    "e.g\n",
    "x = 10\n",
    "def func():\n",
    "    x = 15\n",
    "    print(\"local x: \",x)\n",
    "    y = globals()['x']\n",
    "    print(\"global x: \",y)\n",
    "    globals()['x'] = 20\n",
    "\n",
    "-- using globals()['x'] we can access the global variable x inside the \n",
    "function and we can change the value of global variable x inside the function."
   ]
  },
  {
   "cell_type": "code",
   "execution_count": 13,
   "id": "feae95ad",
   "metadata": {},
   "outputs": [
    {
     "name": "stdout",
     "output_type": "stream",
     "text": [
      "10\n"
     ]
    }
   ],
   "source": [
    "a=10\n",
    "def something():\n",
    "    a=15\n",
    "    print(a)\n",
    "    \n",
    "print(a)"
   ]
  },
  {
   "cell_type": "code",
   "execution_count": 14,
   "id": "55a6f691",
   "metadata": {},
   "outputs": [
    {
     "name": "stdout",
     "output_type": "stream",
     "text": [
      "local 15\n",
      "global 10\n"
     ]
    }
   ],
   "source": [
    "a=10\n",
    "def something():\n",
    "    a=15\n",
    "    print(\"local\", a)\n",
    "    \n",
    "something()\n",
    "print(\"global\", a)"
   ]
  },
  {
   "cell_type": "code",
   "execution_count": 15,
   "id": "2ef52540",
   "metadata": {},
   "outputs": [
    {
     "name": "stdout",
     "output_type": "stream",
     "text": [
      "local 15\n",
      "global 15\n"
     ]
    }
   ],
   "source": [
    "a=10\n",
    "def something():\n",
    "    global a\n",
    "    a=15\n",
    "    print(\"local\", a)\n",
    "    \n",
    "something()\n",
    "print(\"global\", a)"
   ]
  },
  {
   "cell_type": "code",
   "execution_count": 16,
   "id": "5201e4c1",
   "metadata": {},
   "outputs": [
    {
     "name": "stdout",
     "output_type": "stream",
     "text": [
      "2082050408976\n",
      "2082050408976\n",
      "local 9\n",
      "global 10\n"
     ]
    }
   ],
   "source": [
    "a=10\n",
    "print(id(a))\n",
    "\n",
    "def something():\n",
    "    a=9\n",
    "    x=globals()['a']\n",
    "    print(id(x))\n",
    "    print('local',a)\n",
    "    \n",
    "something()\n",
    "print(\"global\", a)"
   ]
  },
  {
   "cell_type": "code",
   "execution_count": 17,
   "id": "be5ac3f7",
   "metadata": {
    "scrolled": true
   },
   "outputs": [
    {
     "name": "stdout",
     "output_type": "stream",
     "text": [
      "2082050408976\n",
      "2082050408976\n",
      "local 9\n",
      "global 15\n"
     ]
    }
   ],
   "source": [
    "a=10\n",
    "print(id(a))\n",
    "\n",
    "def something():\n",
    "    a=9\n",
    "    x=globals()['a']\n",
    "    print(id(x))\n",
    "    print('local',a)\n",
    "    globals()['a'] = 15\n",
    "    \n",
    "something()\n",
    "print(\"global\", a)"
   ]
  },
  {
   "cell_type": "markdown",
   "id": "04b34d46",
   "metadata": {},
   "source": [
    "## Pass list to a function"
   ]
  },
  {
   "cell_type": "code",
   "execution_count": 18,
   "id": "92ad6e4e",
   "metadata": {},
   "outputs": [
    {
     "name": "stdout",
     "output_type": "stream",
     "text": [
      "5\n",
      "3\n",
      "Even:5 and Odd:3\n"
     ]
    }
   ],
   "source": [
    "def count(lst):\n",
    "    even = 0\n",
    "    odd = 0\n",
    "    \n",
    "    for i in lst:\n",
    "        if i%2==0:\n",
    "            even+=1\n",
    "        else:\n",
    "            odd+=1\n",
    "            \n",
    "    return even,odd\n",
    "\n",
    "lst = [12,6,7,2,3,0,17,20]\n",
    "even,odd = count(lst)\n",
    "print(even)\n",
    "print(odd)\n",
    "print(\"Even:{} and Odd:{}\".format(even,odd))"
   ]
  },
  {
   "cell_type": "markdown",
   "id": "0cad6dd8",
   "metadata": {},
   "source": [
    "## Fibonacci Sequence"
   ]
  },
  {
   "cell_type": "code",
   "execution_count": 19,
   "id": "a3cc3f04",
   "metadata": {},
   "outputs": [
    {
     "name": "stdout",
     "output_type": "stream",
     "text": [
      "0\n",
      "1\n",
      "1\n",
      "2\n",
      "3\n",
      "5\n",
      "8\n",
      "13\n",
      "21\n",
      "34\n"
     ]
    }
   ],
   "source": [
    "def fib(n):\n",
    "    a=0\n",
    "    b=1\n",
    "    \n",
    "    if n==1:\n",
    "        print(a)\n",
    "    else:\n",
    "        print(a)\n",
    "        print(b)\n",
    "        \n",
    "        for i in range(2,n):\n",
    "            c=a+b\n",
    "            a=b\n",
    "            b=c\n",
    "            print(c)\n",
    "            \n",
    "fib(10)"
   ]
  },
  {
   "cell_type": "markdown",
   "id": "0811cfdc",
   "metadata": {},
   "source": [
    "## Factorial"
   ]
  },
  {
   "cell_type": "code",
   "execution_count": 20,
   "id": "9747a7e3",
   "metadata": {},
   "outputs": [
    {
     "name": "stdout",
     "output_type": "stream",
     "text": [
      "24\n"
     ]
    }
   ],
   "source": [
    "def fact(n):\n",
    "    f=1\n",
    "    for i in range(1,n+1):\n",
    "        f=f*i\n",
    "    return f\n",
    "\n",
    "x=4\n",
    "result = fact(x)\n",
    "print(result)"
   ]
  },
  {
   "cell_type": "markdown",
   "id": "9f9a865a",
   "metadata": {},
   "source": [
    "#1\n",
    "- Class is a blueprint to create objects.\n",
    "- Integer, Float, String, etc., are in-built types in Python.\n",
    "- To create our type like a computer, we have to create our own class for it. \n",
    "- To use the type that you have created, you need to define a class for it.\n",
    "- A class can be defined by using the class keyword and every class must have a name to it.\n",
    "\n",
    "The syntax for creating a class:-\n",
    " class class_name:\n",
    "  methods():\n",
    "   statements\n",
    "  variables\n",
    "\n",
    "- A class consists of two things:\n",
    "1. Attributes  - Variables\n",
    "2. Behaviour - Methods (Functions)\n",
    "\n",
    "#2\n",
    "- An object of a class can be defined by a  variable and assigned its value with the type of the class.\n",
    "- A class can have multiple objects.\n",
    "\n",
    "Syntax of creating an object:-\n",
    " object variable = class_name()\n",
    "\n",
    "#3\n",
    "- type() return the type of a value that is present inside the variable.\n",
    "- If we will return the type of an object, then it will print the class name. It means an object belongs to a type of particular class.\n",
    "- String, integer, etc are also object that belongs to some in-build class like str and int respectively.\n",
    "\n",
    "#4\n",
    "- We can call any method from a class.\n",
    "- The behaviour of every object will be different from each other so need to define for which object, you are calling a method.\n",
    "- So, we need to pass an object in it as a parameter at the time of calling a method.\n",
    "The syntax for calling a method:-\n",
    " class_name.method_name(object variable)\n",
    "\n",
    "- We pass an object to a method as an argument that will go into the self.\n",
    "- Self is the object that you are passing in a method.\n",
    "- We can also call a method in another way:\n",
    " object_variable.method_name()"
   ]
  },
  {
   "cell_type": "markdown",
   "id": "f77f2bc9",
   "metadata": {},
   "source": [
    "#1\n",
    "- Every object has two things: Attributes and Behaviour.\n",
    "- Attributes are variables and behaviour is methods that are similar to functions.\n",
    "- In python, variables will be defined in a special method known as _init_ that should be present inside the class.\n",
    "- init() method must have an argument known as self with it.\n",
    " def __init__(self):\n",
    "- init() method in python works similarly to constructors that are present in other programming languages.\n",
    "- init() runs automatically as we do not need to call this method.\n",
    "- All methods other than init() will be executed only when they are called from somewhere in a program.\n",
    "- For every object, init() method will be get called once. So, if we create two objects then the init() method will execute two times.\n",
    "\n",
    "#2\n",
    "- When an object of a class is created, the class is said to be instantiated. It is also known as object creation.\n",
    " variable= class_name()\n",
    "An object of that class will be created.\n",
    "- We can pass arguments to a class in the constructor itself for their execution.\n",
    "- Values of arguments can be accepted in a class in the init() method as its parameters.\n",
    "- The variable name of the object is passed automatically and gets accepted by the self in the init() method.\n",
    " class Computer: \n",
    "  def __init__(self, CPU, ram):\n",
    "   -(statements)-\n",
    " com1=Computer('i5', '16')\n",
    "\n",
    "#3 \n",
    "- So, in actuality when the object is created, first we pass the object itself in an argument and then pass values of other parameters in it.\n",
    "- Whatever values you passed for different parameters in an object, will be assigned to an object through the self.\n",
    " def __init__(self, CPU, ram):\n",
    "- In a class variables are not local variables as they are associated with an object so we have to use the self with variables to fetch the values.\n",
    "- We bind data with every object so one object will have its own methods and variables."
   ]
  },
  {
   "cell_type": "code",
   "execution_count": null,
   "id": "da917262",
   "metadata": {},
   "outputs": [],
   "source": []
  }
 ],
 "metadata": {
  "kernelspec": {
   "display_name": "Python 3 (ipykernel)",
   "language": "python",
   "name": "python3"
  },
  "language_info": {
   "codemirror_mode": {
    "name": "ipython",
    "version": 3
   },
   "file_extension": ".py",
   "mimetype": "text/x-python",
   "name": "python",
   "nbconvert_exporter": "python",
   "pygments_lexer": "ipython3",
   "version": "3.10.9"
  }
 },
 "nbformat": 4,
 "nbformat_minor": 5
}
