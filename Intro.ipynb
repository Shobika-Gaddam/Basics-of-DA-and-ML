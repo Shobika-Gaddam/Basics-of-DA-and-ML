{
 "cells": [
  {
   "cell_type": "markdown",
   "id": "ab1c1a68",
   "metadata": {},
   "source": [
    "## Operators\n",
    "\n",
    "- Starting with operations like Addition, Subtraction, Multiplication, and Division.\n",
    "- We do addition, subtraction and multiplication with integer values, and then it gives us answers also in integer data type.\n",
    "- But when performing division with integer values then it gives us an answer in float data type.\n",
    "- Float stands for Floating Point Representation.\n",
    "- When we divide two integer values then it might be possible that the answer can in decimal.\n",
    " e.g.,  5/2 = 2.5\n",
    "- As the interpreter wants to give you an exact answer for the division also, it will return it in float.\n",
    "- If you want to get only the quotient part or the integer part of the answer and want to neglect the decimal value, it can be done with the help of (//).\n",
    "- // (double slash) is used for division when you want to return only an integer value in the answer.\n",
    "- // is also called Integer Division or Floor Division.\n",
    "- We can multiple operations in a single statement as well.\n",
    "- We need to follow the proper syntax for the programming language.\n",
    "- If we apply an operation but do not give operands, then it will give an error.\n",
    " 8+9-        = Error\n",
    "- We can also apply BODMASS rules of mathematics to perform operations.\n",
    "- Double asterisks (**) is used to find the power of a number. \n",
    " number ** power =  2**3 = 2*2*2\n",
    "- To get the remainder, we use the modulus operator (%)."
   ]
  },
  {
   "cell_type": "code",
   "execution_count": 1,
   "id": "d761f519",
   "metadata": {},
   "outputs": [
    {
     "data": {
      "text/plain": [
       "5"
      ]
     },
     "execution_count": 1,
     "metadata": {},
     "output_type": "execute_result"
    }
   ],
   "source": [
    "2+3"
   ]
  },
  {
   "cell_type": "code",
   "execution_count": 2,
   "id": "90f3cee9",
   "metadata": {},
   "outputs": [
    {
     "data": {
      "text/plain": [
       "-1"
      ]
     },
     "execution_count": 2,
     "metadata": {},
     "output_type": "execute_result"
    }
   ],
   "source": [
    "2-3"
   ]
  },
  {
   "cell_type": "code",
   "execution_count": 3,
   "id": "047f6ada",
   "metadata": {},
   "outputs": [
    {
     "data": {
      "text/plain": [
       "6"
      ]
     },
     "execution_count": 3,
     "metadata": {},
     "output_type": "execute_result"
    }
   ],
   "source": [
    "2*3"
   ]
  },
  {
   "cell_type": "code",
   "execution_count": 4,
   "id": "bdeef89c",
   "metadata": {},
   "outputs": [
    {
     "data": {
      "text/plain": [
       "0.6666666666666666"
      ]
     },
     "execution_count": 4,
     "metadata": {},
     "output_type": "execute_result"
    }
   ],
   "source": [
    "2/3"
   ]
  },
  {
   "cell_type": "code",
   "execution_count": 5,
   "id": "f4981df1",
   "metadata": {},
   "outputs": [
    {
     "data": {
      "text/plain": [
       "0"
      ]
     },
     "execution_count": 5,
     "metadata": {},
     "output_type": "execute_result"
    }
   ],
   "source": [
    "2//3"
   ]
  },
  {
   "cell_type": "code",
   "execution_count": 6,
   "id": "d97a2a74",
   "metadata": {},
   "outputs": [
    {
     "data": {
      "text/plain": [
       "8"
      ]
     },
     "execution_count": 6,
     "metadata": {},
     "output_type": "execute_result"
    }
   ],
   "source": [
    "2**3"
   ]
  },
  {
   "cell_type": "code",
   "execution_count": 7,
   "id": "9a2262ec",
   "metadata": {},
   "outputs": [
    {
     "data": {
      "text/plain": [
       "-4"
      ]
     },
     "execution_count": 7,
     "metadata": {},
     "output_type": "execute_result"
    }
   ],
   "source": [
    "2+3-9"
   ]
  },
  {
   "cell_type": "code",
   "execution_count": 8,
   "id": "224711d0",
   "metadata": {},
   "outputs": [
    {
     "data": {
      "text/plain": [
       "2"
      ]
     },
     "execution_count": 8,
     "metadata": {},
     "output_type": "execute_result"
    }
   ],
   "source": [
    "2%3"
   ]
  },
  {
   "cell_type": "markdown",
   "id": "377f239d",
   "metadata": {},
   "source": [
    "## Strings\n",
    "- String is a combination of characters like \"Youtube\", \"Camera\", \"Telusko\", \"Python\", etc., all are strings.\n",
    "- Whenever we use strings, we need to use double quotes(\" \") or single quotes(' ') with it in python.\n",
    "- If you back-slash(\\) to tell the python to ignore the special meaning of that double and single quotes.\n",
    "- If you use a back-slash before a single or double quotes then the quote is also treated as a simple character."
   ]
  },
  {
   "cell_type": "code",
   "execution_count": 9,
   "id": "cc8ac917",
   "metadata": {},
   "outputs": [
    {
     "data": {
      "text/plain": [
       "'Shobika'"
      ]
     },
     "execution_count": 9,
     "metadata": {},
     "output_type": "execute_result"
    }
   ],
   "source": [
    "\"Shobika\""
   ]
  },
  {
   "cell_type": "code",
   "execution_count": 10,
   "id": "79dcd88f",
   "metadata": {},
   "outputs": [
    {
     "data": {
      "text/plain": [
       "'ShobikaShobikaShobika'"
      ]
     },
     "execution_count": 10,
     "metadata": {},
     "output_type": "execute_result"
    }
   ],
   "source": [
    "\"Shobika\"*3"
   ]
  },
  {
   "cell_type": "code",
   "execution_count": 11,
   "id": "8bdfbaa1",
   "metadata": {},
   "outputs": [
    {
     "data": {
      "text/plain": [
       "'Shobika Shobika Shobika '"
      ]
     },
     "execution_count": 11,
     "metadata": {},
     "output_type": "execute_result"
    }
   ],
   "source": [
    "(\"Shobika\" + ' ')*3"
   ]
  },
  {
   "cell_type": "code",
   "execution_count": 12,
   "id": "89c4c8b2",
   "metadata": {},
   "outputs": [
    {
     "name": "stdout",
     "output_type": "stream",
     "text": [
      "Shobika\n"
     ]
    }
   ],
   "source": [
    "print('Shobika')"
   ]
  },
  {
   "cell_type": "code",
   "execution_count": 13,
   "id": "d54a2d70",
   "metadata": {},
   "outputs": [
    {
     "name": "stdout",
     "output_type": "stream",
     "text": [
      "Shobika's Laptop\n"
     ]
    }
   ],
   "source": [
    "print(\"Shobika's Laptop\")"
   ]
  },
  {
   "cell_type": "code",
   "execution_count": 14,
   "id": "b8f83000",
   "metadata": {},
   "outputs": [
    {
     "name": "stdout",
     "output_type": "stream",
     "text": [
      "Shobikas \"Laptop\"\n"
     ]
    }
   ],
   "source": [
    "print('Shobikas \"Laptop\"')"
   ]
  },
  {
   "cell_type": "code",
   "execution_count": 15,
   "id": "b4c4caeb",
   "metadata": {},
   "outputs": [
    {
     "name": "stdout",
     "output_type": "stream",
     "text": [
      "Shobika's \"Laptop\"\n"
     ]
    }
   ],
   "source": [
    "print('Shobika\\'s \"Laptop\"')"
   ]
  },
  {
   "cell_type": "code",
   "execution_count": 16,
   "id": "33f7bfe9",
   "metadata": {},
   "outputs": [
    {
     "name": "stdout",
     "output_type": "stream",
     "text": [
      "C:\\docs\\pc\n"
     ]
    }
   ],
   "source": [
    "print(r'C:\\docs\\pc')"
   ]
  },
  {
   "cell_type": "markdown",
   "id": "205a5521",
   "metadata": {},
   "source": [
    "## Function\n",
    "- Function is a set of tasks that can be done. We need to call functions. There are several functions in Python like the print() function.\n",
    "- Round brackets are used with a function to pass a parameter in it.\n",
    "- We can define our own functions as well.\n",
    "\n",
    "## Concatenation\n",
    "- Concatenation is used to combine two things like we can convert two strings into one using concatenation.\n",
    "- Concatenation is done using the (+) operator.\n",
    "e.g., 'navin' + 'navin'\n",
    "\n",
    "- Repetition is used to print a single value multiple times like we can print a string like \"Navin\" multiple times.\n",
    "- Repetition is done using the (*) operator.\n",
    "e.g.,  'navin' * 3\n",
    "\n",
    "## r\n",
    "- (\\n) has a special meaning in Python. It is used to enter a new line.\n",
    "- To print the original string or to neglect the meaning of \\n, we have to use a Raw String.\n",
    "- Raw string is a string that returns it as it is without making any changes to it. \n",
    "- We have to specify (r) before the quote to print the same string that is present inside the quotes."
   ]
  },
  {
   "cell_type": "markdown",
   "id": "e39f32a6",
   "metadata": {},
   "source": [
    "# Variable: It is a container where we can put our value\n",
    "e.g \n",
    " x=2 #here x is variable and 2 is value\n",
    " x+3\n",
    " 5\n",
    "y=3\n",
    "\n",
    "Note:If I want to use output of previous operation so we use underscore (_) \n",
    " _+y\n",
    "8  # previous output 5 and y is 3 \n",
    "\n",
    "Use String as a variable:\n",
    "-- Strings in python are surrounded by either single quotation marks, or double quotation marks.\n",
    "-- e.g  \"shiva\" ,'shiva'\n",
    "\n",
    "Assign String to a Variable:\n",
    "-- Assigning a string to a variable is done with the variable name followed by an equal sign and the string:\n",
    "name='shiva'\n",
    "name\n",
    "shiva\n",
    "\n",
    "Slicing String:\n",
    "we can return a range of characters by using the slice syntax.\n",
    "Specify the start index and the end index, separated by a colon, to return a part of the string.\n",
    "\n",
    "-- Get the characters from position 2 to position 5 (not included):\n",
    "name='youtube'\n",
    "name[2:5]\n",
    " 'utu'\n",
    "\n",
    "Slice From the Start:\n",
    "name[:5] #from starting to index 5 (exclude)\n",
    " 'youtu'\n",
    "\n",
    "Slice To the End:\n",
    "name[2:] #from 2nd index to end\n",
    " 'utube'\n",
    "\n",
    "Negative Indexing:\n",
    "\n",
    "0    1   2   3    4   5   6   #positive indexing\n",
    "y    o   u   t    u   b   e\n",
    "-7  -6  -5  -4   -3  -2  -1   #Negative indexing \n",
    "\n",
    "name[-1]\n",
    "'e'\n",
    "\n",
    " name[:-1]\n",
    " 'youtub'\n",
    "name[:]\n",
    " 'youtube'\n",
    " name [:0]\n",
    "''\n",
    "name[-5:-2]\n",
    "'utu' \n",
    "\n",
    "Concatenate String:\n",
    " name+ ' telusko'\n",
    " 'youtube telusko'"
   ]
  },
  {
   "cell_type": "code",
   "execution_count": 17,
   "id": "3049308c",
   "metadata": {},
   "outputs": [],
   "source": [
    "x = 2\n",
    "y = 3"
   ]
  },
  {
   "cell_type": "code",
   "execution_count": 18,
   "id": "7576b344",
   "metadata": {},
   "outputs": [
    {
     "data": {
      "text/plain": [
       "5"
      ]
     },
     "execution_count": 18,
     "metadata": {},
     "output_type": "execute_result"
    }
   ],
   "source": [
    "x+y"
   ]
  },
  {
   "cell_type": "code",
   "execution_count": 19,
   "id": "da61cd3e",
   "metadata": {},
   "outputs": [
    {
     "data": {
      "text/plain": [
       "-1"
      ]
     },
     "execution_count": 19,
     "metadata": {},
     "output_type": "execute_result"
    }
   ],
   "source": [
    "z=x-y\n",
    "z"
   ]
  },
  {
   "cell_type": "code",
   "execution_count": 20,
   "id": "84734271",
   "metadata": {},
   "outputs": [
    {
     "data": {
      "text/plain": [
       "2"
      ]
     },
     "execution_count": 20,
     "metadata": {},
     "output_type": "execute_result"
    }
   ],
   "source": [
    "_ + y"
   ]
  },
  {
   "cell_type": "code",
   "execution_count": 21,
   "id": "7e9a2d5d",
   "metadata": {},
   "outputs": [
    {
     "data": {
      "text/plain": [
       "'shobika'"
      ]
     },
     "execution_count": 21,
     "metadata": {},
     "output_type": "execute_result"
    }
   ],
   "source": [
    "name = 'shobika'\n",
    "name"
   ]
  },
  {
   "cell_type": "code",
   "execution_count": 22,
   "id": "89450376",
   "metadata": {},
   "outputs": [
    {
     "data": {
      "text/plain": [
       "'shobikahi'"
      ]
     },
     "execution_count": 22,
     "metadata": {},
     "output_type": "execute_result"
    }
   ],
   "source": [
    "name + 'hi'"
   ]
  },
  {
   "cell_type": "code",
   "execution_count": 23,
   "id": "cde9bafb",
   "metadata": {},
   "outputs": [
    {
     "data": {
      "text/plain": [
       "'shobika hi'"
      ]
     },
     "execution_count": 23,
     "metadata": {},
     "output_type": "execute_result"
    }
   ],
   "source": [
    "name + ' hi'"
   ]
  },
  {
   "cell_type": "code",
   "execution_count": 24,
   "id": "772690d9",
   "metadata": {},
   "outputs": [
    {
     "data": {
      "text/plain": [
       "'s'"
      ]
     },
     "execution_count": 24,
     "metadata": {},
     "output_type": "execute_result"
    }
   ],
   "source": [
    "name[0]"
   ]
  },
  {
   "cell_type": "code",
   "execution_count": 25,
   "id": "226915a0",
   "metadata": {},
   "outputs": [
    {
     "data": {
      "text/plain": [
       "'a'"
      ]
     },
     "execution_count": 25,
     "metadata": {},
     "output_type": "execute_result"
    }
   ],
   "source": [
    "name[-1] #6"
   ]
  },
  {
   "cell_type": "code",
   "execution_count": 26,
   "id": "2b3ab36d",
   "metadata": {},
   "outputs": [
    {
     "data": {
      "text/plain": [
       "'sh'"
      ]
     },
     "execution_count": 26,
     "metadata": {},
     "output_type": "execute_result"
    }
   ],
   "source": [
    "name[0:2]"
   ]
  },
  {
   "cell_type": "code",
   "execution_count": 27,
   "id": "d58c647a",
   "metadata": {},
   "outputs": [
    {
     "data": {
      "text/plain": [
       "'hobika'"
      ]
     },
     "execution_count": 27,
     "metadata": {},
     "output_type": "execute_result"
    }
   ],
   "source": [
    "name[1:]"
   ]
  },
  {
   "cell_type": "code",
   "execution_count": 28,
   "id": "0567dff3",
   "metadata": {},
   "outputs": [
    {
     "data": {
      "text/plain": [
       "'shobik'"
      ]
     },
     "execution_count": 28,
     "metadata": {},
     "output_type": "execute_result"
    }
   ],
   "source": [
    "name[:6]"
   ]
  },
  {
   "cell_type": "code",
   "execution_count": 29,
   "id": "b25d01ff",
   "metadata": {},
   "outputs": [
    {
     "data": {
      "text/plain": [
       "'obi'"
      ]
     },
     "execution_count": 29,
     "metadata": {},
     "output_type": "execute_result"
    }
   ],
   "source": [
    "name[2:5]"
   ]
  },
  {
   "cell_type": "code",
   "execution_count": 30,
   "id": "5b59d759",
   "metadata": {},
   "outputs": [
    {
     "data": {
      "text/plain": [
       "'name: shobika'"
      ]
     },
     "execution_count": 30,
     "metadata": {},
     "output_type": "execute_result"
    }
   ],
   "source": [
    "'name: ' + name[:]"
   ]
  },
  {
   "cell_type": "code",
   "execution_count": 31,
   "id": "e0b0e6ca",
   "metadata": {},
   "outputs": [
    {
     "data": {
      "text/plain": [
       "7"
      ]
     },
     "execution_count": 31,
     "metadata": {},
     "output_type": "execute_result"
    }
   ],
   "source": [
    "len(name)"
   ]
  },
  {
   "cell_type": "markdown",
   "id": "d1174441",
   "metadata": {},
   "source": [
    "## Lists\n",
    "\n",
    "- Lists are mutable\n",
    "- Creation of a list in Python\n",
    "- Methods available with the list\n",
    "- Functions performed with a list\n",
    "\n",
    "1\n",
    "Lists are used to store multiple items in a single variable.\n",
    "- We have to use a square bracket [], and in that square bracket, we can store multiple values.\n",
    "- We can print the list through the variable name.\n",
    "- Lists are Mutable which means values can be changed in the list.\n",
    "- We can also get the single value from the list using the index value.\n",
    "- The index value is 1 less than the size of a list as the index value starts from 0.\n",
    "e.g., If the size of the list is 5, then its index value lies in the range of 0 to 4.\n",
    "- We can fetch only those values from a list that are in the range of index values of it.\n",
    "- We can also get a sub-list of a list by using the slicing in a list.\n",
    "- We can also fetch the value from a list through negative numbers similar to strings.\n",
    "- A list of strings can also be created.\n",
    "- We can also create a list that can store values of different data types.\n",
    "Like it can store integer value, float value, string value etc, in a single list.\n",
    "- A list of lists can also be created which means a list can also store different lists in it as well.\n",
    "\n",
    "#2\n",
    "- Several operations can also be performed using it and it has many in-built functions and methods to use.\n",
    "- nums. shows all the functions that are available with the list.\n",
    "- Ctrl + Space can also be used to show the methods.\n",
    "- append method is used to add a new value to the end of a list.\n",
    "- clear will clear the entire list.\n",
    "- insert method can add a value in between the list at the specified index.\n",
    "- A particular element can also be deleted through the remove method.\n",
    "- pop method will also remove the element through the index value and return that deleted element as well.\n",
    "- If you don't specify the index value in the pop method, it will delete and return the last element from the list.\n",
    "- del is a command through which you can delete a sub-list or multiple values from a list.\n",
    " del list name[start:end]\n",
    "- extend method is used to add multiple values or a sub-list in a list.\n",
    "- sort method is used to get listed in the sorted order.\n",
    " nums.sort()\n",
    "\n",
    "#3\n",
    "- min() function is used to get the minimum value present in a list.\n",
    "- max() function is used to get the maximum value of a list.\n",
    "- sum() function returns the sum of all of the values present inside the list. "
   ]
  },
  {
   "cell_type": "code",
   "execution_count": 32,
   "id": "d9635226",
   "metadata": {},
   "outputs": [
    {
     "data": {
      "text/plain": [
       "[25, 12, 36, 49, 71]"
      ]
     },
     "execution_count": 32,
     "metadata": {},
     "output_type": "execute_result"
    }
   ],
   "source": [
    "nums = [25,12,36,49,71]\n",
    "nums"
   ]
  },
  {
   "cell_type": "code",
   "execution_count": 33,
   "id": "159fe626",
   "metadata": {},
   "outputs": [
    {
     "data": {
      "text/plain": [
       "25"
      ]
     },
     "execution_count": 33,
     "metadata": {},
     "output_type": "execute_result"
    }
   ],
   "source": [
    "nums[0]"
   ]
  },
  {
   "cell_type": "code",
   "execution_count": 34,
   "id": "9536af00",
   "metadata": {},
   "outputs": [
    {
     "data": {
      "text/plain": [
       "[36, 49, 71]"
      ]
     },
     "execution_count": 34,
     "metadata": {},
     "output_type": "execute_result"
    }
   ],
   "source": [
    "nums[2:]"
   ]
  },
  {
   "cell_type": "code",
   "execution_count": 35,
   "id": "baba7078",
   "metadata": {},
   "outputs": [
    {
     "data": {
      "text/plain": [
       "['i', 'a', 'e']"
      ]
     },
     "execution_count": 35,
     "metadata": {},
     "output_type": "execute_result"
    }
   ],
   "source": [
    "names = ['i','a','e']\n",
    "names"
   ]
  },
  {
   "cell_type": "code",
   "execution_count": 36,
   "id": "0b2de88a",
   "metadata": {},
   "outputs": [
    {
     "data": {
      "text/plain": [
       "[8.0, 'u', 55]"
      ]
     },
     "execution_count": 36,
     "metadata": {},
     "output_type": "execute_result"
    }
   ],
   "source": [
    "values = [8.0,'u',55]\n",
    "values"
   ]
  },
  {
   "cell_type": "code",
   "execution_count": 37,
   "id": "cd14e38d",
   "metadata": {},
   "outputs": [
    {
     "data": {
      "text/plain": [
       "[[25, 12, 36, 49, 71], ['i', 'a', 'e']]"
      ]
     },
     "execution_count": 37,
     "metadata": {},
     "output_type": "execute_result"
    }
   ],
   "source": [
    "mil = [nums,names]\n",
    "mil"
   ]
  },
  {
   "cell_type": "code",
   "execution_count": 38,
   "id": "45f0c97c",
   "metadata": {},
   "outputs": [
    {
     "data": {
      "text/plain": [
       "[25, 12, 36, 49, 71, 71]"
      ]
     },
     "execution_count": 38,
     "metadata": {},
     "output_type": "execute_result"
    }
   ],
   "source": [
    "nums.append(71)\n",
    "nums"
   ]
  },
  {
   "cell_type": "code",
   "execution_count": 39,
   "id": "371ac271",
   "metadata": {},
   "outputs": [
    {
     "data": {
      "text/plain": [
       "[25, 12, 36, 49, 71]"
      ]
     },
     "execution_count": 39,
     "metadata": {},
     "output_type": "execute_result"
    }
   ],
   "source": [
    "nums.remove(71)\n",
    "nums"
   ]
  },
  {
   "cell_type": "code",
   "execution_count": 40,
   "id": "c1100274",
   "metadata": {},
   "outputs": [
    {
     "data": {
      "text/plain": [
       "[25, 12, 10, 36, 49, 71]"
      ]
     },
     "execution_count": 40,
     "metadata": {},
     "output_type": "execute_result"
    }
   ],
   "source": [
    "nums.insert(2,10)\n",
    "nums"
   ]
  },
  {
   "cell_type": "code",
   "execution_count": 41,
   "id": "d1a4ad61",
   "metadata": {},
   "outputs": [
    {
     "data": {
      "text/plain": [
       "[25, 12, 36, 49, 71]"
      ]
     },
     "execution_count": 41,
     "metadata": {},
     "output_type": "execute_result"
    }
   ],
   "source": [
    "#to remove value based on index number, by default will remove the last value if index is not given\n",
    "nums.pop(2)\n",
    "nums"
   ]
  },
  {
   "cell_type": "code",
   "execution_count": 42,
   "id": "d3c985e1",
   "metadata": {},
   "outputs": [
    {
     "data": {
      "text/plain": [
       "[25, 12]"
      ]
     },
     "execution_count": 42,
     "metadata": {},
     "output_type": "execute_result"
    }
   ],
   "source": [
    "#delete multiple numbers in a list\n",
    "del nums[2:]\n",
    "nums"
   ]
  },
  {
   "cell_type": "code",
   "execution_count": 43,
   "id": "5a3a5db7",
   "metadata": {},
   "outputs": [
    {
     "data": {
      "text/plain": [
       "[25, 12, 59, 63, 17, 24, 80]"
      ]
     },
     "execution_count": 43,
     "metadata": {},
     "output_type": "execute_result"
    }
   ],
   "source": [
    "#insert multiple values in the list\n",
    "nums.extend([59,63,17,24,80])\n",
    "nums"
   ]
  },
  {
   "cell_type": "code",
   "execution_count": 44,
   "id": "b4c2d9bc",
   "metadata": {},
   "outputs": [
    {
     "data": {
      "text/plain": [
       "'a'"
      ]
     },
     "execution_count": 44,
     "metadata": {},
     "output_type": "execute_result"
    }
   ],
   "source": [
    "min(names) #max, sum"
   ]
  },
  {
   "cell_type": "code",
   "execution_count": 45,
   "id": "81e00a10",
   "metadata": {},
   "outputs": [
    {
     "data": {
      "text/plain": [
       "[12, 17, 24, 25, 59, 63, 80]"
      ]
     },
     "execution_count": 45,
     "metadata": {},
     "output_type": "execute_result"
    }
   ],
   "source": [
    "nums.sort()\n",
    "nums"
   ]
  },
  {
   "cell_type": "markdown",
   "id": "dadb447a",
   "metadata": {},
   "source": [
    "## Tuples and Sets\n",
    "\n",
    "- Tuples re immutable\n",
    "- Methods used with tuples\n",
    "- When to use tuples over lists?\n",
    "- What are Sets in Python?\n",
    "- Properties of Sets\n",
    "\n",
    "#1\n",
    "Tuples:-\n",
    "Tuple is almost similar to a list in which we can store multiple values.\n",
    "- Tuples are Immutable and we can change values in them.\n",
    "- To define a tuple, () round brackets are used.\n",
    "- We can fetch the values from a tuple using the index value that can be given in a square bracket.\n",
    "- Tuple will give an error when you tried to change a value in it.\n",
    "\n",
    "#2\n",
    "- count method is used to count the occurrences of an element in a tuple. It counts the number of times that an element is present in a tuple.\n",
    "e.g., If an element of value 5 is present two times in a tuple, then the count method returns 2.\n",
    "\n",
    "#3\n",
    " - We can use tuples when we want a list of multiple values but we do not want to change it.\n",
    "- Iteration in the tuple is faster than the list.\n",
    "\n",
    "#4\n",
    "Sets:-\n",
    "- Set is a collection of unique elements.\n",
    "- To define the set, we use the {} curly brackets.\n",
    "- Set never follows the sequence.\n",
    "- When we print the set, then the sequence of values in output will be different from the sequence of input.\n",
    "- Duplicate values present in a set will be printed only once in an output.\n",
    "- Set uses the concept of Hash. Hash is used to improve the performance as it fetches the values as fast as possible.\n",
    "- Indexing is not supported in sets as it does not follow sequencing.\n",
    "- Values can not be changed in a set also because index value is not supported. "
   ]
  },
  {
   "cell_type": "code",
   "execution_count": 46,
   "id": "36d95d23",
   "metadata": {},
   "outputs": [
    {
     "data": {
      "text/plain": [
       "(21, 67, 34, 19, 80)"
      ]
     },
     "execution_count": 46,
     "metadata": {},
     "output_type": "execute_result"
    }
   ],
   "source": [
    "tup= (21,67,34,19,80)\n",
    "tup"
   ]
  },
  {
   "cell_type": "code",
   "execution_count": 47,
   "id": "871c4588",
   "metadata": {},
   "outputs": [
    {
     "data": {
      "text/plain": [
       "67"
      ]
     },
     "execution_count": 47,
     "metadata": {},
     "output_type": "execute_result"
    }
   ],
   "source": [
    "tup[1] #has functions"
   ]
  },
  {
   "cell_type": "code",
   "execution_count": 48,
   "id": "4c3fe93b",
   "metadata": {},
   "outputs": [
    {
     "data": {
      "text/plain": [
       "{2, 19, 35, 49, 67}"
      ]
     },
     "execution_count": 48,
     "metadata": {},
     "output_type": "execute_result"
    }
   ],
   "source": [
    "s = {2,19,35,49,67}\n",
    "s"
   ]
  },
  {
   "cell_type": "markdown",
   "id": "4659655d",
   "metadata": {},
   "source": [
    "## Dictionary:\n",
    "-- if you want to accessing the data by using key then we are using dictionary\n",
    "-- Dictionary uses key and value pair\n",
    "key and value  \n",
    "in python \n",
    "data={1:'Navin',2:'kiran',4:'Harsh'} # 1 is key and Navin is value and 2 is key and kiran is value and 4 is key and Harsh is value\n",
    "\n",
    "property of dictionary:\n",
    "-- key must be immutable and unique (immutable means we can't change the value, unique means we can't repeat the key) \n",
    "-- value can be anything\n",
    "-- we can access the value by using key \n",
    "-- we can't access the value by using index\n",
    "-- we can't access the value by using value\n",
    "\n",
    "\n",
    "fetching the value from dictionary\n",
    "data[4] # we can access the value by using key here key is 4\n",
    "data[3] # you get error because key is not present in dictionary\n",
    "\n",
    "get() method:\n",
    "-- we can access the value by using get() method\n",
    "-- if key is present in dictionary then it will return the value\n",
    "-- if key is not present in dictionary then it will return None\n",
    "data.get(1) \n",
    "data.get(3) # not get  anything \n",
    "print(data.get(3)) # it will return None\n",
    "data.get(1,'Not Found')\n",
    "data.get(3,'Not Found')\n",
    "\n",
    "use of zip() method:\n",
    "-- we can combine the two list by using zip() method\n",
    "-- it will return the tuple\n",
    "keys = ['Navin','Kiran','Harsh']\n",
    "values=['Python','Java','JS']\n",
    "\n",
    "use of dict() method:\n",
    "-- we can convert the tuple into dictionary by using dict() method\n",
    "data=dict(zip(keys,values))\n",
    "data['Kiran']\n",
    "data['Monika'] # it will give error because key is not present in dictionary\n",
    "\n",
    "add the value in dictionary:\n",
    "data['Monika']='CS'\n",
    "data\n",
    "\n",
    "delete the value from dictionary:\n",
    "del data['Harsh']\n",
    " \n",
    "Nested Dictionary:\n",
    "-- we can store the dictionary inside the dictionary\n",
    "prog={'JS':'Atom','CS':'VS','Python':['Pycharm','Sublime'],'Java':{'JSE':'Netbeans','JEE':'Eclipse'}}\n",
    "prog\n",
    "prog['JS']\n",
    "prog['python'][1]\n",
    "prog['Java']\n",
    "prog['Java']['JEE']\n"
   ]
  },
  {
   "cell_type": "code",
   "execution_count": 49,
   "id": "bc3770f6",
   "metadata": {},
   "outputs": [
    {
     "data": {
      "text/plain": [
       "{1: 'a', 2: 'b', 3: 'c'}"
      ]
     },
     "execution_count": 49,
     "metadata": {},
     "output_type": "execute_result"
    }
   ],
   "source": [
    "data = {1:'a', 2:'b',3:'c'}\n",
    "data"
   ]
  },
  {
   "cell_type": "code",
   "execution_count": 50,
   "id": "ee5a88bc",
   "metadata": {},
   "outputs": [
    {
     "data": {
      "text/plain": [
       "'c'"
      ]
     },
     "execution_count": 50,
     "metadata": {},
     "output_type": "execute_result"
    }
   ],
   "source": [
    "data[3]"
   ]
  },
  {
   "cell_type": "code",
   "execution_count": 51,
   "id": "9ed8cda2",
   "metadata": {},
   "outputs": [
    {
     "data": {
      "text/plain": [
       "'a'"
      ]
     },
     "execution_count": 51,
     "metadata": {},
     "output_type": "execute_result"
    }
   ],
   "source": [
    "data.get(1)"
   ]
  },
  {
   "cell_type": "code",
   "execution_count": 52,
   "id": "ad411fb7",
   "metadata": {},
   "outputs": [
    {
     "data": {
      "text/plain": [
       "'na'"
      ]
     },
     "execution_count": 52,
     "metadata": {},
     "output_type": "execute_result"
    }
   ],
   "source": [
    "data.get(4,'na')"
   ]
  },
  {
   "cell_type": "code",
   "execution_count": 53,
   "id": "4966a64f",
   "metadata": {},
   "outputs": [
    {
     "name": "stdout",
     "output_type": "stream",
     "text": [
      "a\n"
     ]
    }
   ],
   "source": [
    "print(data.get(1))"
   ]
  },
  {
   "cell_type": "code",
   "execution_count": 54,
   "id": "11d5ea98",
   "metadata": {},
   "outputs": [
    {
     "data": {
      "text/plain": [
       "{'i': 'python', 'a': 'java', 'e': 'sql'}"
      ]
     },
     "execution_count": 54,
     "metadata": {},
     "output_type": "execute_result"
    }
   ],
   "source": [
    "pro = ['python','java','sql']\n",
    "d = dict(zip(names,pro))\n",
    "d"
   ]
  },
  {
   "cell_type": "code",
   "execution_count": 55,
   "id": "54708ed7",
   "metadata": {},
   "outputs": [
    {
     "data": {
      "text/plain": [
       "{'i': 'python', 'a': 'java', 'e': 'sql', 'o': 'CS'}"
      ]
     },
     "execution_count": 55,
     "metadata": {},
     "output_type": "execute_result"
    }
   ],
   "source": [
    "d['o'] = 'CS'\n",
    "d"
   ]
  },
  {
   "cell_type": "code",
   "execution_count": 56,
   "id": "1e8a53f2",
   "metadata": {},
   "outputs": [
    {
     "data": {
      "text/plain": [
       "{'i': 'python', 'a': 'java', 'e': 'sql'}"
      ]
     },
     "execution_count": 56,
     "metadata": {},
     "output_type": "execute_result"
    }
   ],
   "source": [
    "del d['o']\n",
    "d"
   ]
  },
  {
   "cell_type": "code",
   "execution_count": 57,
   "id": "e095de33",
   "metadata": {},
   "outputs": [
    {
     "data": {
      "text/plain": [
       "{'JS': 'Atom',\n",
       " 'CS': 'VS',\n",
       " 'Python': ['Pycharm', 'Sublime'],\n",
       " 'Java': {'JSE': 'Netbeans', 'JEE': 'Eclipse'}}"
      ]
     },
     "execution_count": 57,
     "metadata": {},
     "output_type": "execute_result"
    }
   ],
   "source": [
    "prog={'JS':'Atom','CS':'VS','Python':['Pycharm','Sublime'],'Java':{'JSE':'Netbeans','JEE':'Eclipse'}}\n",
    "prog"
   ]
  },
  {
   "cell_type": "code",
   "execution_count": 58,
   "id": "9fe3e3e3",
   "metadata": {
    "scrolled": true
   },
   "outputs": [
    {
     "data": {
      "text/plain": [
       "dict_keys(['JS', 'CS', 'Python', 'Java'])"
      ]
     },
     "execution_count": 58,
     "metadata": {},
     "output_type": "execute_result"
    }
   ],
   "source": [
    "prog.keys()"
   ]
  },
  {
   "cell_type": "code",
   "execution_count": 59,
   "id": "c38a64f3",
   "metadata": {},
   "outputs": [
    {
     "data": {
      "text/plain": [
       "dict_values(['Atom', 'VS', ['Pycharm', 'Sublime'], {'JSE': 'Netbeans', 'JEE': 'Eclipse'}])"
      ]
     },
     "execution_count": 59,
     "metadata": {},
     "output_type": "execute_result"
    }
   ],
   "source": [
    "prog.values()"
   ]
  },
  {
   "cell_type": "code",
   "execution_count": 60,
   "id": "f7719473",
   "metadata": {},
   "outputs": [
    {
     "data": {
      "text/plain": [
       "'Atom'"
      ]
     },
     "execution_count": 60,
     "metadata": {},
     "output_type": "execute_result"
    }
   ],
   "source": [
    "prog['JS']"
   ]
  },
  {
   "cell_type": "code",
   "execution_count": 61,
   "id": "405870fc",
   "metadata": {},
   "outputs": [
    {
     "data": {
      "text/plain": [
       "'Sublime'"
      ]
     },
     "execution_count": 61,
     "metadata": {},
     "output_type": "execute_result"
    }
   ],
   "source": [
    "prog['Python'][1]"
   ]
  },
  {
   "cell_type": "code",
   "execution_count": 62,
   "id": "5d0fada2",
   "metadata": {},
   "outputs": [
    {
     "data": {
      "text/plain": [
       "{'JSE': 'Netbeans', 'JEE': 'Eclipse'}"
      ]
     },
     "execution_count": 62,
     "metadata": {},
     "output_type": "execute_result"
    }
   ],
   "source": [
    "prog['Java']"
   ]
  },
  {
   "cell_type": "code",
   "execution_count": 63,
   "id": "09353bc8",
   "metadata": {},
   "outputs": [
    {
     "data": {
      "text/plain": [
       "'Eclipse'"
      ]
     },
     "execution_count": 63,
     "metadata": {},
     "output_type": "execute_result"
    }
   ],
   "source": [
    "prog['Java']['JEE']"
   ]
  },
  {
   "cell_type": "code",
   "execution_count": 64,
   "id": "3001cf0b",
   "metadata": {},
   "outputs": [
    {
     "data": {
      "text/plain": [
       "'Atom'"
      ]
     },
     "execution_count": 64,
     "metadata": {},
     "output_type": "execute_result"
    }
   ],
   "source": [
    "prog.get('JS')"
   ]
  },
  {
   "cell_type": "markdown",
   "id": "3234592b",
   "metadata": {},
   "source": [
    "## DataTypes:\n",
    "\n",
    "Python has several built-in data types. Here are some of the most common ones:\n",
    "\n",
    "i) NoneType: This is a special data type that represents the absence of a value. It is similar to null in other languages.\n",
    "ii) Numbers: These can be integers, floating-point numbers, or complex numbers.\n",
    "iii) Booleans: These are values that represent True or False.\n",
    "iv) Lists: These are ordered collections of objects, enclosed in square brackets.\n",
    "v) Tuples: These are similar to lists, but are immutable (i.e., their contents cannot be changed), and are enclosed in parentheses.\n",
    "vi) Sets: These are unordered collections of unique elements, enclosed in curly braces.\n",
    "vii) Strings: These are sequences of characters, enclosed in single or double quotes.\n",
    "viii) Ranges: These are immutable sequences of numbers, and are commonly used to iterate over a sequence of numbers in a for loop.\n",
    "ix) Dictionaries: These are collections of key-value pairs, enclosed in curly braces.\n",
    " \n",
    "\n",
    "Note:In addition to these built-in data types, Python also allows you to define your own custom data types using classes.\n",
    "\n",
    "i)None Type\n",
    "a=None\n",
    "type(a)\n",
    "\n",
    "ii)Numbers\n",
    "int: if you want to assign a integer value to a variable \n",
    "a=5\n",
    "type(a)\n",
    "\n",
    "float: if you want to assign a float value to a variable \n",
    "num =2.5 \n",
    "type(num) \n",
    "\n",
    "complex: if you want to assign a complex value to a variable\n",
    "num =2+9j \n",
    "type(num)\n",
    "\n",
    "#type conversion:  if you want to convert one data type to another data type \n",
    "a=5.6\n",
    "b=int(a) \n",
    "type(b) # output : int\n",
    "k=float(b) \n",
    "type(k) # output : float\n",
    "c=complex(4,5)\n",
    "type(c) # output : complex\n",
    "\n",
    "iii)boolean: if you want to assign a variable with a boolean value\n",
    "a= True\n",
    "type(a)  # output : bool\n",
    "bool=3 less then5 \n",
    "True \n",
    "type(bool)\n",
    " \n",
    "\n",
    "Sequence data types : if you want to assign a variable with multiple values \n",
    "List, Tuple, Set, String, Range.\n",
    "\n",
    "iv) List  if you want to assign a variable with multiple values and you want to change the values \n",
    "-- In Python, a list is a collection of ordered and mutable elements enclosed\n",
    "in square brackets. Lists are one of the most commonly used data structures in \n",
    "Python because of their versatility and flexibility.\n",
    "\n",
    "lst=[25,36,45,12]\n",
    "type(lst) # output : list\n",
    "\n",
    "\n",
    "v) Tuple:  if you want to assign a variable with multiple values and you donot want to change the values make immutable \n",
    "-- In Python, a tuple is a collection of ordered and immutable elements enclosed in parentheses. \n",
    "Tuples are similar to lists, but they cannot be modified once they are created, which makes them \n",
    "useful for storing data that should not be changed during the program's execution.\n",
    "\n",
    "t=(25,36,45,12,7)\n",
    "type(t) # output : tuple\n",
    "\n",
    "vi) Set:  if you want to assign a variable with multiple values and you donot want to change the values and you donot want to duplicate values \n",
    "-- In Python, a set is an unordered collection of unique elements enclosed in curly braces.\n",
    "Sets are useful for storing data that should not contain duplicates, such as a list of\n",
    "users on a website.\n",
    "\n",
    "s={25,36,45,12,25,36}\n",
    "type(s) # output : set\n",
    "#output: {36, 12, 45, 25}\n",
    "\n",
    "vii) String: if you want to assign sequence of characters to a variable \n",
    "-- In Python, a string is a sequence of characters enclosed in single or double quotes.\n",
    "Strings are immutable, which means that they cannot be modified once they are created.\n",
    "\n",
    "str = \"hello\"\n",
    "type(str) # output : str\n",
    "\n",
    "we are not talk about char data type in python\n",
    "st='a' # every character is a string in python \n",
    "\n",
    "viii) Range: if you want to assign a variable with multiple values and you don't want to change the values and you want to generate a sequence of numbers\n",
    "-- In Python, a range is a sequence of numbers that is immutable and iterable. \n",
    "Ranges are commonly used to iterate over a sequence of numbers in a for loop.\n",
    "\n",
    "range(10) # range data type\n",
    "type(range(10))  # output : range \n",
    "list(range(2,10,2)) # output : [2, 4, 6, 8]\n",
    "\n",
    "ix) Dictionary:  if you want to assign a variable with multiple values and you donot want to change the values and you want to assign a key to each value \n",
    "-- In Python, a dictionary is a collection of key-value pairs enclosed in curly braces.\n",
    "Dictionaries are useful for storing data that is associated with a key, such as a list of\n",
    "users on a website and their corresponding email addresses.\n",
    "\n",
    "d={1:'a',2:'b',3:'c'}\n",
    "type(d)\n",
    "\n",
    "d1={'navin':'samsung','rahul':'iphone','kiran':'oneplus'} \n",
    "d1.values() # output : dict_values(['samsung', 'iphone', 'oneplus'])\n",
    "d1.keys()  # output : dict_keys(['navin', 'rahul', 'kiran'])\n",
    "d['rahul'] #output : 'iphone'\n",
    "d1.get('kiran') #output : 'oneplus' "
   ]
  },
  {
   "cell_type": "code",
   "execution_count": 65,
   "id": "0f2f8c45",
   "metadata": {},
   "outputs": [
    {
     "data": {
      "text/plain": [
       "int"
      ]
     },
     "execution_count": 65,
     "metadata": {},
     "output_type": "execute_result"
    }
   ],
   "source": [
    "a=3\n",
    "type(a)"
   ]
  },
  {
   "cell_type": "code",
   "execution_count": 66,
   "id": "7621715c",
   "metadata": {},
   "outputs": [
    {
     "data": {
      "text/plain": [
       "3"
      ]
     },
     "execution_count": 66,
     "metadata": {},
     "output_type": "execute_result"
    }
   ],
   "source": [
    "b=3.5\n",
    "c=int(a)\n",
    "c"
   ]
  },
  {
   "cell_type": "code",
   "execution_count": 67,
   "id": "683343d1",
   "metadata": {},
   "outputs": [
    {
     "data": {
      "text/plain": [
       "(3+3.5j)"
      ]
     },
     "execution_count": 67,
     "metadata": {},
     "output_type": "execute_result"
    }
   ],
   "source": [
    "d = complex(a,b)\n",
    "d"
   ]
  },
  {
   "cell_type": "code",
   "execution_count": 68,
   "id": "a0028122",
   "metadata": {},
   "outputs": [
    {
     "data": {
      "text/plain": [
       "False"
      ]
     },
     "execution_count": 68,
     "metadata": {},
     "output_type": "execute_result"
    }
   ],
   "source": [
    "e=a>b\n",
    "e\n",
    "#type(e)"
   ]
  },
  {
   "cell_type": "code",
   "execution_count": 69,
   "id": "29d1cb6c",
   "metadata": {},
   "outputs": [
    {
     "data": {
      "text/plain": [
       "range(0, 10)"
      ]
     },
     "execution_count": 69,
     "metadata": {},
     "output_type": "execute_result"
    }
   ],
   "source": [
    "range(10)"
   ]
  },
  {
   "cell_type": "code",
   "execution_count": 70,
   "id": "e9511aef",
   "metadata": {},
   "outputs": [
    {
     "data": {
      "text/plain": [
       "[0, 1, 2, 3, 4, 5, 6, 7, 8, 9]"
      ]
     },
     "execution_count": 70,
     "metadata": {},
     "output_type": "execute_result"
    }
   ],
   "source": [
    "list(range(10))"
   ]
  },
  {
   "cell_type": "code",
   "execution_count": 71,
   "id": "5ee057f2",
   "metadata": {},
   "outputs": [
    {
     "data": {
      "text/plain": [
       "[2, 4, 6, 8]"
      ]
     },
     "execution_count": 71,
     "metadata": {},
     "output_type": "execute_result"
    }
   ],
   "source": [
    "list(range(2,10,2))"
   ]
  },
  {
   "cell_type": "markdown",
   "id": "8f442876",
   "metadata": {},
   "source": [
    "## Operators\n",
    "\n",
    "#1\n",
    "- Types of operators in Python:\n",
    "1. Arithmetic operators\n",
    "2. Assignment operators\n",
    "3. Relational operators\n",
    "4. Logical operators\n",
    "5. Unary operators\n",
    "- Arithmetic operators are used to perform mathematical operations like addition, subtraction, multiplication, division, etc.\n",
    "- Assignment operation is performed with the help of equal to(=), in which we can assign a value to the variable.\n",
    "- We can also do the assignment by short-hand which means performing an arithmetic operation and then assigning the value both at the same time.\n",
    "-  We can also assign the values in one line for two variables.\n",
    " a,b = 5,6\n",
    "- Unary operator takes a single operand in an expression or a statement.\n",
    "- Comparison can be performed with the help of relational operators.\n",
    "- Comparison operators return a boolean value or True or False.\n",
    "\n",
    "#2\n",
    "- If you want to combine two or more conditions and then check the relation between them, then logical operators are used.\n",
    "- Logical operators include And, Or and Not.\n",
    "- Logical operators follow the truth table for And,  Or, and Not operators.\n",
    "- And the operator returns True when both conditions are true otherwise returns False. \n",
    "Or the operator returns True when any of the conditions or both the conditions are True otherwise it returns False.\n",
    "Not the operator reverses the value of the output."
   ]
  },
  {
   "cell_type": "code",
   "execution_count": 72,
   "id": "7d7404a5",
   "metadata": {},
   "outputs": [],
   "source": [
    "x=2\n",
    "y=3"
   ]
  },
  {
   "cell_type": "code",
   "execution_count": 73,
   "id": "fa34b97e",
   "metadata": {},
   "outputs": [
    {
     "data": {
      "text/plain": [
       "5"
      ]
     },
     "execution_count": 73,
     "metadata": {},
     "output_type": "execute_result"
    }
   ],
   "source": [
    "x+y"
   ]
  },
  {
   "cell_type": "code",
   "execution_count": 74,
   "id": "328d3b9d",
   "metadata": {},
   "outputs": [
    {
     "data": {
      "text/plain": [
       "-1"
      ]
     },
     "execution_count": 74,
     "metadata": {},
     "output_type": "execute_result"
    }
   ],
   "source": [
    "x-y"
   ]
  },
  {
   "cell_type": "code",
   "execution_count": 75,
   "id": "325c6679",
   "metadata": {},
   "outputs": [
    {
     "data": {
      "text/plain": [
       "6"
      ]
     },
     "execution_count": 75,
     "metadata": {},
     "output_type": "execute_result"
    }
   ],
   "source": [
    "x*y"
   ]
  },
  {
   "cell_type": "code",
   "execution_count": 76,
   "id": "0adc6fa2",
   "metadata": {},
   "outputs": [
    {
     "data": {
      "text/plain": [
       "0.6666666666666666"
      ]
     },
     "execution_count": 76,
     "metadata": {},
     "output_type": "execute_result"
    }
   ],
   "source": [
    "x/y"
   ]
  },
  {
   "cell_type": "code",
   "execution_count": 77,
   "id": "d7a93df4",
   "metadata": {},
   "outputs": [
    {
     "data": {
      "text/plain": [
       "0"
      ]
     },
     "execution_count": 77,
     "metadata": {},
     "output_type": "execute_result"
    }
   ],
   "source": [
    "x//y"
   ]
  },
  {
   "cell_type": "code",
   "execution_count": 78,
   "id": "15807588",
   "metadata": {},
   "outputs": [
    {
     "data": {
      "text/plain": [
       "4"
      ]
     },
     "execution_count": 78,
     "metadata": {},
     "output_type": "execute_result"
    }
   ],
   "source": [
    "x=x+2\n",
    "x"
   ]
  },
  {
   "cell_type": "code",
   "execution_count": 79,
   "id": "41250675",
   "metadata": {},
   "outputs": [
    {
     "data": {
      "text/plain": [
       "6"
      ]
     },
     "execution_count": 79,
     "metadata": {},
     "output_type": "execute_result"
    }
   ],
   "source": [
    "x+=2\n",
    "x"
   ]
  },
  {
   "cell_type": "code",
   "execution_count": 80,
   "id": "9c9bc2e9",
   "metadata": {},
   "outputs": [],
   "source": [
    "x*=3"
   ]
  },
  {
   "cell_type": "code",
   "execution_count": 81,
   "id": "205507fd",
   "metadata": {},
   "outputs": [
    {
     "data": {
      "text/plain": [
       "18"
      ]
     },
     "execution_count": 81,
     "metadata": {},
     "output_type": "execute_result"
    }
   ],
   "source": [
    "x"
   ]
  },
  {
   "cell_type": "code",
   "execution_count": 82,
   "id": "eba1360c",
   "metadata": {},
   "outputs": [
    {
     "data": {
      "text/plain": [
       "(5, 6)"
      ]
     },
     "execution_count": 82,
     "metadata": {},
     "output_type": "execute_result"
    }
   ],
   "source": [
    "a,b = 5,6\n",
    "a,b"
   ]
  },
  {
   "cell_type": "code",
   "execution_count": 83,
   "id": "18b001e9",
   "metadata": {},
   "outputs": [
    {
     "data": {
      "text/plain": [
       "-6"
      ]
     },
     "execution_count": 83,
     "metadata": {},
     "output_type": "execute_result"
    }
   ],
   "source": [
    "b = -b\n",
    "b"
   ]
  },
  {
   "cell_type": "code",
   "execution_count": 84,
   "id": "651dc673",
   "metadata": {},
   "outputs": [
    {
     "data": {
      "text/plain": [
       "False"
      ]
     },
     "execution_count": 84,
     "metadata": {},
     "output_type": "execute_result"
    }
   ],
   "source": [
    "a<8 and b>5"
   ]
  },
  {
   "cell_type": "code",
   "execution_count": 85,
   "id": "a6a950e8",
   "metadata": {},
   "outputs": [
    {
     "data": {
      "text/plain": [
       "True"
      ]
     },
     "execution_count": 85,
     "metadata": {},
     "output_type": "execute_result"
    }
   ],
   "source": [
    "a<8 or b>5"
   ]
  },
  {
   "cell_type": "code",
   "execution_count": 86,
   "id": "c4858f0c",
   "metadata": {},
   "outputs": [
    {
     "data": {
      "text/plain": [
       "False"
      ]
     },
     "execution_count": 86,
     "metadata": {},
     "output_type": "execute_result"
    }
   ],
   "source": [
    "t = True\n",
    "not t"
   ]
  },
  {
   "cell_type": "markdown",
   "id": "25e6b188",
   "metadata": {},
   "source": [
    "## Swap two numbers:\n",
    "-- suppose we have two variables a and b and we want to swap the value of a and b\n",
    "-- we can do this by directly assigning the value of b to a and a to b lead to loose of value of a and b \n",
    "-- we can do this by using temp variable\n",
    "-- we can do this by using xor operator\n",
    "-- we can do this by using python technique"
   ]
  },
  {
   "cell_type": "code",
   "execution_count": 87,
   "id": "aa9aefd1",
   "metadata": {},
   "outputs": [
    {
     "name": "stdout",
     "output_type": "stream",
     "text": [
      "6\n",
      "6\n"
     ]
    }
   ],
   "source": [
    "# directly assigning leads to loose of value\n",
    "a=5\n",
    "b=6\n",
    "a=b  \n",
    "print(a)\n",
    "print(b)\n",
    "a=5 # resign the value of a to 5"
   ]
  },
  {
   "cell_type": "code",
   "execution_count": 88,
   "id": "71d0c3e4",
   "metadata": {},
   "outputs": [
    {
     "name": "stdout",
     "output_type": "stream",
     "text": [
      "6\n",
      "5\n"
     ]
    }
   ],
   "source": [
    "# use temp variable for swapping\n",
    "temp=a\n",
    "a=b\n",
    "b=temp\n",
    "print(a)\n",
    "print(b)"
   ]
  },
  {
   "cell_type": "code",
   "execution_count": 89,
   "id": "83b41a95",
   "metadata": {
    "scrolled": true
   },
   "outputs": [
    {
     "name": "stdout",
     "output_type": "stream",
     "text": [
      "5\n",
      "6\n"
     ]
    }
   ],
   "source": [
    "#without using third variable we can swap the value\n",
    "a=a+b\n",
    "b=a-b\n",
    "a=a-b\n",
    "print(a)\n",
    "print(b)"
   ]
  },
  {
   "cell_type": "code",
   "execution_count": 90,
   "id": "fe7e5e5a",
   "metadata": {},
   "outputs": [
    {
     "name": "stdout",
     "output_type": "stream",
     "text": [
      "6\n",
      "5\n"
     ]
    }
   ],
   "source": [
    "#use of xor operator for swapping\n",
    "a=a^b\n",
    "b=a^b\n",
    "a=a^b\n",
    "print(a)\n",
    "print(b)"
   ]
  },
  {
   "cell_type": "code",
   "execution_count": 91,
   "id": "ee9885f1",
   "metadata": {},
   "outputs": [
    {
     "name": "stdout",
     "output_type": "stream",
     "text": [
      "5\n",
      "6\n"
     ]
    }
   ],
   "source": [
    "# in python we have another technique\n",
    "a,b=b,a\n",
    "print(a)\n",
    "print(b)"
   ]
  },
  {
   "cell_type": "code",
   "execution_count": null,
   "id": "ee029989",
   "metadata": {},
   "outputs": [],
   "source": []
  }
 ],
 "metadata": {
  "kernelspec": {
   "display_name": "Python 3 (ipykernel)",
   "language": "python",
   "name": "python3"
  },
  "language_info": {
   "codemirror_mode": {
    "name": "ipython",
    "version": 3
   },
   "file_extension": ".py",
   "mimetype": "text/x-python",
   "name": "python",
   "nbconvert_exporter": "python",
   "pygments_lexer": "ipython3",
   "version": "3.10.9"
  }
 },
 "nbformat": 4,
 "nbformat_minor": 5
}
