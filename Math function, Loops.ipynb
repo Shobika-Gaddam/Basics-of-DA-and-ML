{
 "cells": [
  {
   "cell_type": "code",
   "execution_count": 1,
   "id": "6080646a",
   "metadata": {},
   "outputs": [],
   "source": [
    "import math #as m"
   ]
  },
  {
   "cell_type": "markdown",
   "id": "32bf2565",
   "metadata": {},
   "source": [
    "## Math function:"
   ]
  },
  {
   "cell_type": "markdown",
   "id": "2b7fb944",
   "metadata": {},
   "source": [
    "-- math module in Python provides a wide range of mathematical functions.\n",
    "-- math module is a built-in module in Python.\n",
    "-- math module is used to perform mathematical operations.\n",
    "-- math module is used to perform mathematical operations like square root, power, floor, ceil, etc. \n",
    "\n",
    "-- for using math module we have to import it first \n",
    "#import math\n",
    "-- then we can use math module function like math.sqrt(25) \n",
    "or\n",
    "-- we can use alias name like m=math then we can use m. \n",
    " m.sqrt(25) if we import math as m\n",
    "or \n",
    "-- we can import only required function like from math import sqrt,pow\n",
    "sqrt(25)\n",
    "pow(2,3)\n",
    "\n",
    "Here are some of the most commonly used ones methods of math module:\n",
    "\n",
    "math.sqrt(x): Returns the square root of x.\n",
    "math.pow(x, y): Returns x raised to the power y.\n",
    "math.ceil(x): Returns the smallest integer greater than or equal to x.\n",
    "math.floor(x): Returns the largest integer less than or equal to x.\n",
    "math.exp(x): Returns the exponential value of x.\n",
    "math.log(x[, base]): Returns the natural logarithm (base e) of x or the logarithm of x with the specified base.\n",
    "math.sin(x), math.cos(x), math.tan(x): Returns the trigonometric sine, cosine, or tangent of x, respectively.\n",
    "\n",
    "Here are some of the most commonly used ones attributes(constant) of math module:\n",
    "\n",
    "math.pi: Returns the value of pi.\n",
    "math.e: Returns the value of e.\n",
    "math.inf: Returns a floating point positive infinity.\n",
    "math.nan: Returns a floating point “not a number” (NaN) value.\n",
    "\n",
    "using help function we can get all the information about math module\n",
    "help(math)"
   ]
  },
  {
   "cell_type": "code",
   "execution_count": 2,
   "id": "71090f04",
   "metadata": {},
   "outputs": [
    {
     "data": {
      "text/plain": [
       "5.0"
      ]
     },
     "execution_count": 2,
     "metadata": {},
     "output_type": "execute_result"
    }
   ],
   "source": [
    "math.sqrt(25)"
   ]
  },
  {
   "cell_type": "code",
   "execution_count": 3,
   "id": "ee8ab71a",
   "metadata": {},
   "outputs": [
    {
     "data": {
      "text/plain": [
       "5.0"
      ]
     },
     "execution_count": 3,
     "metadata": {},
     "output_type": "execute_result"
    }
   ],
   "source": [
    "m=math\n",
    "m.sqrt(25)"
   ]
  },
  {
   "cell_type": "code",
   "execution_count": 5,
   "id": "98b94104",
   "metadata": {},
   "outputs": [
    {
     "data": {
      "text/plain": [
       "8.0"
      ]
     },
     "execution_count": 5,
     "metadata": {},
     "output_type": "execute_result"
    }
   ],
   "source": [
    "m.pow(2,3)"
   ]
  },
  {
   "cell_type": "code",
   "execution_count": 8,
   "id": "c5b33400",
   "metadata": {},
   "outputs": [
    {
     "data": {
      "text/plain": [
       "-0.3048106211022167"
      ]
     },
     "execution_count": 8,
     "metadata": {},
     "output_type": "execute_result"
    }
   ],
   "source": [
    "x=60\n",
    "math.sin(x)"
   ]
  },
  {
   "cell_type": "code",
   "execution_count": 9,
   "id": "0ee10885",
   "metadata": {},
   "outputs": [
    {
     "data": {
      "text/plain": [
       "3.141592653589793"
      ]
     },
     "execution_count": 9,
     "metadata": {},
     "output_type": "execute_result"
    }
   ],
   "source": [
    "math.pi"
   ]
  },
  {
   "cell_type": "markdown",
   "id": "ad897eda",
   "metadata": {},
   "source": [
    "How to get user input\n",
    "- input function\n",
    "- printing input message\n",
    "- Type of input data\n",
    "- When to use index value\n",
    "- eval function\n",
    "- Passing values from command line\n",
    "- Argument line input\n",
    "\n",
    "#1 How to get user input\n",
    "-- Getting user input in Python is straightforward. You can use the input() function \n",
    "to get input from the user. The input function takes a single argument, which is the \n",
    "prompt message displayed to the user.\n",
    "\n",
    "e.g\n",
    "name = input(\"Please enter your name: \")\n",
    "x=input(\"Enter first number: \");\n",
    "y=input(\"Enter second number: \");\n",
    "z=x+y;\n",
    "print(z);\n",
    "\n",
    "\n",
    "#2 input function \n",
    "-- In Python, the input() function is used to accept user input from the command line or console.\n",
    "name=input(\"Enter your name:\");\n",
    "print(name);\n",
    "-- In this example, the input() function prompts the user to enter their name. Whatever the user types \n",
    "in response is stored in the name variable.\n",
    "-- Note that the input() function always returns a string, so if we want to use the user's input as a number, \n",
    "we'll need to convert it using the appropriate type-casting function (e.g., int() for integers or float() for \n",
    "floating-point numbers).\n",
    "\n",
    "#3 Types of input data\n",
    "-- The input() function always returns a string, regardless of what the user enters. \n",
    "we may need to convert the input to a different data type if you want to perform calculations or other operations on it.\n",
    "\n",
    "e.g\n",
    "x=input(\"Enter first number: \");\n",
    "a=int(x);\n",
    "the input entered by the user is converted to an integer using the int() function in this example.\n",
    "\n",
    "#4 when to use index value \n",
    "-- If you want to get a single character from the user, we can use the input() function and index the result.\n",
    "e.g\n",
    "ch=input('enter a character: ');\n",
    "print(ch[0])\n",
    "\n",
    "ch=input('enter a character: ')[0];\n",
    "print(ch);\n",
    "\n",
    "#5 eval function\n",
    "eval function\n",
    "-- The eval() function in Python is used to evaluate an expression entered by the user as a string. \n",
    "The eval() function returns the result of the expression as a value.\n",
    "\n",
    "e.g\n",
    "x=eval(input(\"Enter an expression: \"));\n",
    "typeOf = type(x);\n",
    "print(typeOf);\n",
    "\n",
    "#6\n",
    "Passing values from command line\n",
    "-- sys module provides access to any command-line arguments via the sys.argv list. \n",
    "we can pass arguments to a Python script from the command line using the sys.argv list. \n",
    "The first argument in the list is always the name of the script itself.\n",
    "\n",
    "suppose we have a file named Mycode.py\n",
    "in file we have written code\n",
    "import sys  # without this line you will get error\n",
    "x=sys.argv[1];\n",
    "y=sys.argv[2];\n",
    "z=x+y;\n",
    "print(z);\n",
    "\n",
    "in command line we have to run this file\n",
    "#python3 Mycode.py 9 5\n",
    "            0      1 2\n",
    "\n",
    "Note: Mycode is count as 0th argument\n",
    "      9 is count as 1st argument\n",
    "      5 is count as 2nd argument"
   ]
  },
  {
   "cell_type": "code",
   "execution_count": 10,
   "id": "649fc90a",
   "metadata": {},
   "outputs": [
    {
     "name": "stdout",
     "output_type": "stream",
     "text": [
      "Enter first number: 2\n",
      "Enter first number: 3\n",
      "5\n"
     ]
    }
   ],
   "source": [
    "x = int(input(\"Enter first number: \"))\n",
    "y = int(input(\"Enter first number: \"))\n",
    "print(x+y)"
   ]
  },
  {
   "cell_type": "markdown",
   "id": "019cdffa",
   "metadata": {},
   "source": [
    "If statement:-\n",
    "- In programming, we have to apply conditions as per the logic of the code. In python, conditions can be applied through the if keyword.\n",
    "- Use of the if keyword specifies the flow of execution of the code.\n",
    "- Based on the condition of the problem statement, if keyword helps to decide which set of statements should be executed.\n",
    "Syntax:-\n",
    " if (condition):\n",
    "  statement;\n",
    "- The statements of the if block will be executed only when the condition of the if statement is true. If the condition is false then it will skip the execution of statements present inside the if block.\n",
    "- If consists of a block where you can write multiple statements. In python, it is also known as Suite.\n",
    "\n",
    "#2\n",
    "Indentation:-\n",
    "- In Python, we have to follow certain indentations that specify the conditions that are present inside a certain block.\n",
    "- Indentation simply means a certain number of spaces at the beginning of a code line.\n",
    "- Indentation increases the readability of the code.\n",
    "\n",
    "#3\n",
    "Else block:-\n",
    "- We can also use multiple if blocks in a code.\n",
    "- Multiple uses of the if block decrease the efficiency of a code as the condition will be checked again and again in each if block.\n",
    "- To make the code efficient, we use the else block. \n",
    "- If the condition of the if block is true then the else block will be skipped. And if the condition of the if block is false then the else block will be checked and executed.\n",
    "\n",
    "#4\n",
    "Nested if and else statements:-\n",
    "- Nested if and else statements are also allowed in Python. \n",
    "- if statement can also be checked inside other if statement. This conditional statement is called a nested if statement.\n",
    "- In nested, the inner if condition will be checked only if the outer if condition is true and that helps to see multiple conditions to be satisfied.\n",
    "- Round brackets for putting a condition in the if statement is optional. \n",
    "\n",
    "#5 \n",
    "if, elif and else statements:-\n",
    "- elif stands for if-else.\n",
    "- The if-elif statement is a shortcut of if..else chain.\n",
    "- If the if condition s false, then the condition inside the elif will be checked and executed.\n",
    "- While using if-elif statement at the end else block is added that will be executed when none of the above if-elif statements is true."
   ]
  },
  {
   "cell_type": "code",
   "execution_count": 14,
   "id": "61ff4491",
   "metadata": {},
   "outputs": [
    {
     "name": "stdout",
     "output_type": "stream",
     "text": [
      "Even\n"
     ]
    }
   ],
   "source": [
    "x = 8\n",
    "r = x % 2\n",
    "\n",
    "if r==0:\n",
    "    print(\"Even\")\n",
    "else:\n",
    "    print(\"Odd\")"
   ]
  },
  {
   "cell_type": "code",
   "execution_count": 15,
   "id": "1855afe8",
   "metadata": {},
   "outputs": [
    {
     "name": "stdout",
     "output_type": "stream",
     "text": [
      "Even\n",
      ">5\n"
     ]
    }
   ],
   "source": [
    "a = 8\n",
    "r = a % 2\n",
    "\n",
    "if r==0:\n",
    "    print(\"Even\")\n",
    "    if x>5:\n",
    "        print(\">5\")\n",
    "else:\n",
    "    print(\"Odd\")"
   ]
  },
  {
   "cell_type": "code",
   "execution_count": 16,
   "id": "9ad66f44",
   "metadata": {},
   "outputs": [
    {
     "name": "stdout",
     "output_type": "stream",
     "text": [
      "Odd\n"
     ]
    }
   ],
   "source": [
    "a = 3\n",
    "r = a % 2\n",
    "\n",
    "if r==0:\n",
    "    print(\"Even\")\n",
    "    if x>5:\n",
    "        print(\">5\")\n",
    "    else:\n",
    "        print(\"<5\")\n",
    "else:\n",
    "    print(\"Odd\")"
   ]
  },
  {
   "cell_type": "code",
   "execution_count": 20,
   "id": "e6664c20",
   "metadata": {},
   "outputs": [
    {
     "name": "stdout",
     "output_type": "stream",
     "text": [
      "NA\n"
     ]
    }
   ],
   "source": [
    "x=8\n",
    "if x==1:\n",
    "    print(\"One\")\n",
    "elif x==2:\n",
    "    print(\"Two\")\n",
    "elif x==3:\n",
    "    print(\"Three\")\n",
    "elif x==4:\n",
    "    print(\"Four\")\n",
    "else:\n",
    "    print(\"NA\")"
   ]
  },
  {
   "cell_type": "markdown",
   "id": "fab292cd",
   "metadata": {},
   "source": [
    "#1\n",
    "- We can execute a statement multiple times, by using the loops.\n",
    "- There are two types of a loop:\n",
    "1. For loop\n",
    "2. While loop\n",
    "\n",
    "- In the while loop, we need a counter to count the number of times, a statement can be executed.\n",
    "- We also have to put a condition in a while loop to repeat a statement until the given condition is satisfied.\n",
    "- The while Loop. With the while loop, we can execute a set of statements as long as a condition is true.\n",
    "- When the condition becomes false, the line immediately after the loop in the program is executed.\n",
    "- The value of the counter will increase or decrease until the condition gets false.\n",
    "\n",
    "#2\n",
    "- Syntax of the while loop:-\n",
    " counter variable\n",
    " while (condition):\n",
    "  statements;\n",
    "  incrementation/ decrementation\n",
    "\n",
    "- So, there must be three things in a while loop:-\n",
    "1. Initialization\n",
    "2. Condition\n",
    "3. Increment / Decrement\n",
    "- Nested while loops can also be used in Python.\n",
    "- Nested while loop simply means that a loop inside another loop.\n",
    "\n",
    "#3\n",
    "- To print the values in the same, we use (end=\" \"). The value will not come in the new line after using it.\n",
    "- Passing the whitespace to the end parameter (end=' ') indicates that the end character has to be identified by whitespace and not a new line.\n"
   ]
  },
  {
   "cell_type": "code",
   "execution_count": 21,
   "id": "0884092d",
   "metadata": {},
   "outputs": [
    {
     "name": "stdout",
     "output_type": "stream",
     "text": [
      "y\n",
      "y\n",
      "y\n",
      "y\n"
     ]
    }
   ],
   "source": [
    "i=1\n",
    "while i<5:\n",
    "    print(\"y\")\n",
    "    i+=1"
   ]
  },
  {
   "cell_type": "code",
   "execution_count": 23,
   "id": "cf92b607",
   "metadata": {},
   "outputs": [
    {
     "name": "stdout",
     "output_type": "stream",
     "text": [
      "5\n",
      "4\n",
      "3\n",
      "2\n",
      "1\n"
     ]
    }
   ],
   "source": [
    "i=5\n",
    "while i>=1:\n",
    "    print(i)\n",
    "    i-=1"
   ]
  },
  {
   "cell_type": "code",
   "execution_count": 28,
   "id": "09a6ba6c",
   "metadata": {},
   "outputs": [
    {
     "name": "stdout",
     "output_type": "stream",
     "text": [
      "ynnnn\n",
      "y\n",
      "y\n",
      "y\n",
      "y\n"
     ]
    }
   ],
   "source": [
    "i=5\n",
    "j=4\n",
    "while i>=1:\n",
    "    print(\"y\",end=\"\")\n",
    "    while j>=1:\n",
    "        print(\"n\",end=\"\")\n",
    "        j-=1\n",
    "    i-=1\n",
    "    print()"
   ]
  },
  {
   "cell_type": "markdown",
   "id": "a9bf18ec",
   "metadata": {},
   "source": [
    "In Python, break, continue, and pass are control flow statements that are used to\n",
    "alter the normal flow of execution in a loop or conditional statement.\n",
    "\n",
    "#1\n",
    "break: The break statement is used to terminate a loop prematurely when a certain condition is met. \n",
    "Once the break statement is encountered inside a loop, the loop is immediately terminated and the program continues \n",
    "with the next statement after the loop.\n",
    "\n",
    "for i in range(1, 6):\n",
    "    if i == 3:\n",
    "        break\n",
    "    print(i)\n",
    "\n",
    "output:\n",
    "1\n",
    "2\n",
    "\n",
    "#2\n",
    "continue: The continue statement is used to skip the current iteration of a loop and move on to the next iteration, \n",
    "without executing the remaining code in the loop for the current iteration.\n",
    "\n",
    "for i in range(1, 6):\n",
    "    if i == 3:\n",
    "        continue\n",
    "    print(i)\n",
    "\n",
    "output:\n",
    "1\n",
    "2\n",
    "4\n",
    "5\n",
    "\n",
    "\n",
    "#3\n",
    "pass: The pass statement is a placeholder statement that is used to indicate that no action should be taken. It is often used \n",
    "as a placeholder when writing code that will be filled in later.\n",
    "\n",
    "for i in range(1, 6):\n",
    "    if i == 3:\n",
    "        pass\n",
    "    else:\n",
    "        print(i)\n",
    "\n",
    "output:\n",
    "1\n",
    "2\n",
    "4\n",
    "5"
   ]
  },
  {
   "cell_type": "code",
   "execution_count": 29,
   "id": "836ff79a",
   "metadata": {},
   "outputs": [
    {
     "name": "stdout",
     "output_type": "stream",
     "text": [
      "S\n",
      "h\n",
      "o\n",
      "b\n",
      "i\n",
      "k\n",
      "a\n"
     ]
    }
   ],
   "source": [
    "x = 'Shobika'\n",
    "for i in x:\n",
    "    print(i)"
   ]
  },
  {
   "cell_type": "code",
   "execution_count": 30,
   "id": "8e87bb8d",
   "metadata": {},
   "outputs": [
    {
     "name": "stdout",
     "output_type": "stream",
     "text": [
      "2\n",
      "6\n",
      "Shobika\n"
     ]
    }
   ],
   "source": [
    "for i in [2,6,'Shobika']:\n",
    "    print(i)"
   ]
  },
  {
   "cell_type": "code",
   "execution_count": 31,
   "id": "9f2dc495",
   "metadata": {},
   "outputs": [
    {
     "name": "stdout",
     "output_type": "stream",
     "text": [
      "2\n",
      "3\n",
      "4\n",
      "5\n",
      "6\n",
      "7\n",
      "8\n",
      "9\n"
     ]
    }
   ],
   "source": [
    "for i in range(2,10):\n",
    "    print(i)"
   ]
  },
  {
   "cell_type": "code",
   "execution_count": 32,
   "id": "24615571",
   "metadata": {},
   "outputs": [
    {
     "name": "stdout",
     "output_type": "stream",
     "text": [
      "0\n",
      "2\n",
      "4\n",
      "6\n",
      "8\n",
      "10\n",
      "12\n",
      "14\n",
      "16\n",
      "18\n",
      "20\n"
     ]
    }
   ],
   "source": [
    "for i in range(0,21,2): #20,11,-1\n",
    "    print(i)"
   ]
  },
  {
   "cell_type": "code",
   "execution_count": 6,
   "id": "66beb33f",
   "metadata": {
    "scrolled": true
   },
   "outputs": [
    {
     "name": "stdout",
     "output_type": "stream",
     "text": [
      "5\n",
      "10\n",
      "15\n",
      "20\n"
     ]
    }
   ],
   "source": [
    "for i in range (1,21):\n",
    "    if i%5==0:\n",
    "        print(i)"
   ]
  },
  {
   "cell_type": "code",
   "execution_count": 7,
   "id": "19f0f3f2",
   "metadata": {},
   "outputs": [
    {
     "name": "stdout",
     "output_type": "stream",
     "text": [
      "1\n",
      "2\n",
      "3\n",
      "4\n",
      "6\n",
      "7\n",
      "8\n",
      "9\n",
      "11\n",
      "12\n",
      "13\n",
      "14\n",
      "16\n",
      "17\n",
      "18\n",
      "19\n"
     ]
    }
   ],
   "source": [
    "for i in range (1,21):\n",
    "    if i%5!=0:\n",
    "        print(i)"
   ]
  },
  {
   "cell_type": "markdown",
   "id": "72a601ed",
   "metadata": {},
   "source": [
    "#1 break \n",
    "#2 continue\n",
    "#3 pass \n",
    "\n",
    "In Python, break, continue, and pass are control flow statements that are used to\n",
    "alter the normal flow of execution in a loop or conditional statement.\n",
    "\n",
    "#1\n",
    "break: The break statement is used to terminate a loop prematurely when a certain condition is met. \n",
    "Once the break statement is encountered inside a loop, the loop is immediately terminated and the program continues \n",
    "with the next statement after the loop.\n",
    "\n",
    "for i in range(1, 6):\n",
    "    if i == 3:\n",
    "        break\n",
    "    print(i)\n",
    "\n",
    "output:\n",
    "1\n",
    "2\n",
    "\n",
    "#2\n",
    "continue: The continue statement is used to skip the current iteration of a loop and move on to the next iteration, \n",
    "without executing the remaining code in the loop for the current iteration.\n",
    "\n",
    "for i in range(1, 6):\n",
    "    if i == 3:\n",
    "        continue\n",
    "    print(i)\n",
    "\n",
    "output:\n",
    "1\n",
    "2\n",
    "4\n",
    "5\n",
    "\n",
    "\n",
    "#3\n",
    "pass: The pass statement is a placeholder statement that is used to indicate that no action should be taken. It is often used \n",
    "as a placeholder when writing code that will be filled in later.\n",
    "\n",
    "for i in range(1, 6):\n",
    "    if i == 3:\n",
    "        pass\n",
    "    else:\n",
    "        print(i)\n",
    "\n",
    "output:\n",
    "1\n",
    "2\n",
    "4\n",
    "5"
   ]
  },
  {
   "cell_type": "code",
   "execution_count": 3,
   "id": "7e332988",
   "metadata": {},
   "outputs": [
    {
     "name": "stdout",
     "output_type": "stream",
     "text": [
      "No. of Candies: 6\n",
      "Candy\n",
      "Candy\n",
      "Candy\n",
      "Candy\n",
      "Candy\n",
      "NA\n",
      "Bye\n"
     ]
    }
   ],
   "source": [
    "av = 5\n",
    "x = int(input(\"No. of Candies: \"))\n",
    "i=1\n",
    "while i<=x:\n",
    "    if i>av:\n",
    "        print(\"NA\")\n",
    "        break\n",
    "    print(\"Candy\")\n",
    "    i+=1\n",
    "print(\"Bye\")"
   ]
  },
  {
   "cell_type": "code",
   "execution_count": 2,
   "id": "318c433c",
   "metadata": {},
   "outputs": [
    {
     "name": "stdout",
     "output_type": "stream",
     "text": [
      "2\n",
      "4\n",
      "6\n",
      "8\n",
      "10\n",
      "12\n",
      "14\n",
      "16\n",
      "18\n",
      "20\n",
      "22\n",
      "24\n",
      "26\n",
      "28\n",
      "30\n",
      "32\n",
      "34\n",
      "36\n",
      "38\n",
      "40\n",
      "42\n",
      "44\n",
      "46\n",
      "48\n",
      "50\n",
      "52\n",
      "54\n",
      "56\n",
      "58\n",
      "60\n",
      "62\n",
      "64\n",
      "66\n",
      "68\n",
      "70\n",
      "72\n",
      "74\n",
      "76\n",
      "78\n",
      "80\n",
      "82\n",
      "84\n",
      "86\n",
      "88\n",
      "90\n",
      "92\n",
      "94\n",
      "96\n",
      "98\n",
      "100\n"
     ]
    }
   ],
   "source": [
    "for i in range (1,101):\n",
    "    if i%2!=0:\n",
    "        pass\n",
    "    else:\n",
    "        print(i)"
   ]
  },
  {
   "cell_type": "code",
   "execution_count": 2,
   "id": "d70900d6",
   "metadata": {},
   "outputs": [
    {
     "name": "stdout",
     "output_type": "stream",
     "text": [
      "Hello 0\n",
      "Hello 1\n",
      "Hello 2\n",
      "Hello 4\n"
     ]
    }
   ],
   "source": [
    "for i in range (5):\n",
    "    if i==3:\n",
    "        continue\n",
    "    print(\"Hello\", i)"
   ]
  },
  {
   "cell_type": "code",
   "execution_count": 3,
   "id": "bf52b50a",
   "metadata": {},
   "outputs": [
    {
     "name": "stdout",
     "output_type": "stream",
     "text": [
      "Hello 0\n",
      "Hello 1\n",
      "Hello 2\n"
     ]
    }
   ],
   "source": [
    "for i in range (5):\n",
    "    if i==3:\n",
    "        break\n",
    "    print(\"Hello\", i)"
   ]
  },
  {
   "cell_type": "markdown",
   "id": "4eb6ac12",
   "metadata": {},
   "source": [
    "## Patterns \n",
    "\n",
    "- How to implement the logic for pattern printing?\n",
    "- Pattern printing through python\n",
    "- Print the pattern of a square\n",
    "- Print the pattern of the right triangle and reverse right-triangle\n",
    "- Different approaches to printing a pattern\n",
    "\n",
    "\n",
    "#1\n",
    "- Pattern printing improves logical thinking capability.\n",
    "- Programming is all about solving the problem, we have to understand the problem statement and wrote code for it.\n",
    "- A pattern can be printed in many ways.\n",
    "- We can print multiple hashes(#) in a single statement as a string.\n",
    "- If you are allowed to print only hash in a statement at a time, then you have to write the same print statement multiple times. \n",
    "- On writing a statement multiple times, it will give an output in a column.\n",
    "- To convert a column output into a row format, we can use the end=\" \"parameter in every statement. \n",
    "- To will restrict the cursor to move on a new line and hashes(#) will be printed in a single row.\n",
    " \n",
    "#2\n",
    "- Instead of writing the same code multiple times, we can use a for a loop.\n",
    "- For a range(n) in a for loop, it will start from 0 and end at (n-1).\n",
    "- We can use two loops, for printing two rows separated by a new line.\n",
    "- For printing multiple rows, we have to write the same for loop code repeatedly.\n",
    "- So, we can write the above for loop block inside another outer loop. \n",
    "- In nested loops, an outer loop contains a variable that represents the number of rows and an inner loop contains a variable that represents the number of columns.\n",
    "\n",
    "#3\n",
    "- We can apply the concept to different patterns in a similar way. \n",
    "e.g., for printing a right -triangle, we can restrict the inner loop till the value of a number of rows.\n",
    "- For the reverse of the right triangle, we can restrict the inner loop till (n-i), where i is the number of rows."
   ]
  },
  {
   "cell_type": "code",
   "execution_count": 2,
   "id": "1cc61e8c",
   "metadata": {},
   "outputs": [
    {
     "name": "stdout",
     "output_type": "stream",
     "text": [
      "# # # # \n",
      "# # # # \n",
      "# # # # \n",
      "# # # # \n"
     ]
    }
   ],
   "source": [
    "for i in range (4):\n",
    "    for j in range (4):\n",
    "        print(\"# \", end=\"\")\n",
    "        \n",
    "    print()"
   ]
  },
  {
   "cell_type": "code",
   "execution_count": 6,
   "id": "e767f548",
   "metadata": {},
   "outputs": [
    {
     "name": "stdout",
     "output_type": "stream",
     "text": [
      "# \n",
      "# # \n",
      "# # # \n",
      "# # # # \n"
     ]
    }
   ],
   "source": [
    "for i in range (4):\n",
    "    for j in range (i+1):\n",
    "        print(\"# \", end=\"\")\n",
    "        \n",
    "    print()"
   ]
  },
  {
   "cell_type": "code",
   "execution_count": 9,
   "id": "b1542e3e",
   "metadata": {},
   "outputs": [
    {
     "name": "stdout",
     "output_type": "stream",
     "text": [
      "# # # # \n",
      "# # # \n",
      "# # \n",
      "# \n"
     ]
    }
   ],
   "source": [
    "for i in range (4):\n",
    "    for j in range (4-i):\n",
    "        print(\"# \", end=\"\")\n",
    "        \n",
    "    print()"
   ]
  },
  {
   "cell_type": "markdown",
   "id": "8c2cc5da",
   "metadata": {},
   "source": [
    "## For Else\n",
    "\n",
    "-- The for-else loop in Python is a control flow structure that combines the for loop and else \n",
    "statement. The for loop iterates over a sequence of items, and the else statement is executed \n",
    "after the loop is completed, provided that the loop was not terminated prematurely by a break statement. \n",
    "Here's the basic syntax:\n",
    "\n",
    "for item in sequence:\n",
    "    # loop body\n",
    "else:\n",
    "    # else block\n",
    "\n",
    "-- The sequence can be any iterable object, such as a list, tuple, or string. The loop body is executed\n",
    "once for each item in the sequence, and the item variable takes on the value of each item in turn.\n",
    "\n",
    "-- If the loop completes normally, without encountering a break statement, then the else block is executed. \n",
    "This can be useful for executing cleanup code or performing some final action after the loop is finished."
   ]
  },
  {
   "cell_type": "code",
   "execution_count": 12,
   "id": "fd71f64a",
   "metadata": {},
   "outputs": [
    {
     "name": "stdout",
     "output_type": "stream",
     "text": [
      "10\n",
      "NA\n",
      "NA\n",
      "20\n",
      "NA\n"
     ]
    }
   ],
   "source": [
    "nums = [10,16,18,20,26]\n",
    "\n",
    "for num in nums:\n",
    "    if num%5 == 0:\n",
    "        print(num)\n",
    "        #break\n",
    "        \n",
    "    else:\n",
    "        print(\"NA\")"
   ]
  },
  {
   "cell_type": "code",
   "execution_count": 16,
   "id": "808ab379",
   "metadata": {},
   "outputs": [
    {
     "name": "stdout",
     "output_type": "stream",
     "text": [
      "10\n",
      "20\n"
     ]
    }
   ],
   "source": [
    "nums = [10,16,18,20,26]\n",
    "\n",
    "for num in nums:\n",
    "    if num%5 == 0:\n",
    "        print(num)\n",
    "        #break\n",
    "        \n",
    "#else:\n",
    "    #print(\"NA\")"
   ]
  },
  {
   "cell_type": "markdown",
   "id": "4ee72fe0",
   "metadata": {},
   "source": [
    "## Is given number a Prime Number?"
   ]
  },
  {
   "cell_type": "code",
   "execution_count": 3,
   "id": "87c436e5",
   "metadata": {},
   "outputs": [
    {
     "name": "stdout",
     "output_type": "stream",
     "text": [
      "P\n"
     ]
    }
   ],
   "source": [
    "num = 7\n",
    "for i in range (2,num): #range will start from 2\n",
    "    if num%2==0:\n",
    "        print(\"NP\")\n",
    "        break\n",
    "else:\n",
    "    print(\"P\")"
   ]
  },
  {
   "cell_type": "code",
   "execution_count": null,
   "id": "f3f52214",
   "metadata": {},
   "outputs": [],
   "source": []
  }
 ],
 "metadata": {
  "kernelspec": {
   "display_name": "Python 3 (ipykernel)",
   "language": "python",
   "name": "python3"
  },
  "language_info": {
   "codemirror_mode": {
    "name": "ipython",
    "version": 3
   },
   "file_extension": ".py",
   "mimetype": "text/x-python",
   "name": "python",
   "nbconvert_exporter": "python",
   "pygments_lexer": "ipython3",
   "version": "3.10.9"
  }
 },
 "nbformat": 4,
 "nbformat_minor": 5
}
