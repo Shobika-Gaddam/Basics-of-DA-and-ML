{
 "cells": [
  {
   "cell_type": "code",
   "execution_count": 1,
   "id": "63a8912c",
   "metadata": {},
   "outputs": [],
   "source": [
    "import array"
   ]
  },
  {
   "cell_type": "code",
   "execution_count": 2,
   "id": "30de2077",
   "metadata": {},
   "outputs": [],
   "source": [
    "from array import *"
   ]
  },
  {
   "cell_type": "code",
   "execution_count": 3,
   "id": "5abd3ec7",
   "metadata": {},
   "outputs": [
    {
     "data": {
      "text/plain": [
       "array('i', [5, 9, -8, 4, 2])"
      ]
     },
     "execution_count": 3,
     "metadata": {},
     "output_type": "execute_result"
    }
   ],
   "source": [
    "vals = array('i',[5,9,-8,4,2])\n",
    "vals"
   ]
  },
  {
   "cell_type": "code",
   "execution_count": 4,
   "id": "cecac6a6",
   "metadata": {},
   "outputs": [
    {
     "data": {
      "text/plain": [
       "(1691935195024, 5)"
      ]
     },
     "execution_count": 4,
     "metadata": {},
     "output_type": "execute_result"
    }
   ],
   "source": [
    "vals.buffer_info() #address, size"
   ]
  },
  {
   "cell_type": "code",
   "execution_count": 5,
   "id": "16b07a8e",
   "metadata": {},
   "outputs": [
    {
     "data": {
      "text/plain": [
       "'i'"
      ]
     },
     "execution_count": 5,
     "metadata": {},
     "output_type": "execute_result"
    }
   ],
   "source": [
    "vals.typecode"
   ]
  },
  {
   "cell_type": "code",
   "execution_count": 6,
   "id": "321294fe",
   "metadata": {},
   "outputs": [],
   "source": [
    "vals.reverse()"
   ]
  },
  {
   "cell_type": "code",
   "execution_count": 7,
   "id": "01fd926b",
   "metadata": {},
   "outputs": [
    {
     "data": {
      "text/plain": [
       "2"
      ]
     },
     "execution_count": 7,
     "metadata": {},
     "output_type": "execute_result"
    }
   ],
   "source": [
    "vals[0]"
   ]
  },
  {
   "cell_type": "code",
   "execution_count": 8,
   "id": "701549ad",
   "metadata": {},
   "outputs": [
    {
     "data": {
      "text/plain": [
       "array('i', [2, 4, -8, 9, 5])"
      ]
     },
     "execution_count": 8,
     "metadata": {},
     "output_type": "execute_result"
    }
   ],
   "source": [
    "vals"
   ]
  },
  {
   "cell_type": "code",
   "execution_count": 9,
   "id": "9cdcda07",
   "metadata": {},
   "outputs": [
    {
     "name": "stdout",
     "output_type": "stream",
     "text": [
      "2\n",
      "4\n",
      "-8\n",
      "9\n",
      "5\n"
     ]
    }
   ],
   "source": [
    "for i in range (5):\n",
    "    print(vals[i])"
   ]
  },
  {
   "cell_type": "code",
   "execution_count": 10,
   "id": "ea259d34",
   "metadata": {},
   "outputs": [
    {
     "name": "stdout",
     "output_type": "stream",
     "text": [
      "2\n",
      "4\n",
      "-8\n",
      "9\n",
      "5\n"
     ]
    }
   ],
   "source": [
    "for i in range (len(vals)):\n",
    "    print(vals[i])"
   ]
  },
  {
   "cell_type": "code",
   "execution_count": 11,
   "id": "75dec3bd",
   "metadata": {},
   "outputs": [
    {
     "name": "stdout",
     "output_type": "stream",
     "text": [
      "2\n",
      "4\n",
      "-8\n",
      "9\n",
      "5\n"
     ]
    }
   ],
   "source": [
    "for i in vals:\n",
    "    print(i)"
   ]
  },
  {
   "cell_type": "code",
   "execution_count": 12,
   "id": "6783ef4c",
   "metadata": {},
   "outputs": [
    {
     "data": {
      "text/plain": [
       "array('u', 'aeiou')"
      ]
     },
     "execution_count": 12,
     "metadata": {},
     "output_type": "execute_result"
    }
   ],
   "source": [
    "values = array('u',['a','e','i','o','u'])\n",
    "values"
   ]
  },
  {
   "cell_type": "code",
   "execution_count": 13,
   "id": "e266ed30",
   "metadata": {},
   "outputs": [
    {
     "name": "stdout",
     "output_type": "stream",
     "text": [
      "a\n",
      "e\n",
      "i\n",
      "o\n",
      "u\n"
     ]
    }
   ],
   "source": [
    "for i in values:\n",
    "    print(i)"
   ]
  },
  {
   "cell_type": "code",
   "execution_count": 14,
   "id": "f3328054",
   "metadata": {},
   "outputs": [],
   "source": [
    "newArr = array(vals.typecode, (a for a in vals))"
   ]
  },
  {
   "cell_type": "code",
   "execution_count": 15,
   "id": "17f98080",
   "metadata": {},
   "outputs": [
    {
     "name": "stdout",
     "output_type": "stream",
     "text": [
      "2\n",
      "4\n",
      "-8\n",
      "9\n",
      "5\n"
     ]
    }
   ],
   "source": [
    "for i in newArr:\n",
    "    print(i)"
   ]
  },
  {
   "cell_type": "code",
   "execution_count": 16,
   "id": "497ee320",
   "metadata": {},
   "outputs": [],
   "source": [
    "newArr1 = array(vals.typecode, (a*a for a in vals))"
   ]
  },
  {
   "cell_type": "code",
   "execution_count": 17,
   "id": "542f805b",
   "metadata": {},
   "outputs": [
    {
     "name": "stdout",
     "output_type": "stream",
     "text": [
      "4\n",
      "16\n",
      "64\n",
      "81\n",
      "25\n"
     ]
    }
   ],
   "source": [
    "for i in newArr1:\n",
    "    print(i)"
   ]
  },
  {
   "cell_type": "code",
   "execution_count": 18,
   "id": "3b9d2d95",
   "metadata": {},
   "outputs": [
    {
     "name": "stdout",
     "output_type": "stream",
     "text": [
      "2\n",
      "4\n",
      "-8\n",
      "9\n",
      "5\n"
     ]
    }
   ],
   "source": [
    "i=0\n",
    "while i<len(newArr):\n",
    "    print(newArr[i])\n",
    "    i+=1"
   ]
  },
  {
   "cell_type": "markdown",
   "id": "f3c03a2b",
   "metadata": {},
   "source": [
    "- How to create an empty array?\n",
    "- How to create an array through user input?\n",
    "- Array creation by taking the values from a user\n",
    "- How to search an element in an array?\n",
    "- Function used to get the index value of an element in python\n",
    "\n",
    "#1\n",
    "- We can also create a blank array and can take the values for it from the user.\n",
    "- First, we have to take the length of an array from the user. \n",
    "- input() function takes the value in the form of a string, so we have to change it into an integer using int().\n",
    "- We can run a loop in a range of length of an array given by the user. At each iteration, we can take a value to be inserted in an array.\n",
    "- append() is a function that is used to add a value or an element in an array.\n",
    "\n",
    "#2\n",
    "- To search for any value in an array or to check the index number at which the value is present, we need to increment the value of an iterator variable in every iteration.\n",
    "- When the condition of comparison gets true, we stop the loop to iterate further and print the value of an iterator variable.\n",
    "- The iterator variable will return an index number of the value, you have searched for.\n",
    "\n",
    "#3\n",
    "- index() function can also be used to get the index number of a value in an array."
   ]
  },
  {
   "cell_type": "code",
   "execution_count": 19,
   "id": "5f818ac4",
   "metadata": {
    "scrolled": true
   },
   "outputs": [
    {
     "name": "stdout",
     "output_type": "stream",
     "text": [
      "Range of Array: 3\n",
      "Array Value: 1\n",
      "Array Value: 2\n",
      "Array Value: 3\n",
      "array('i', [1, 2, 3])\n"
     ]
    }
   ],
   "source": [
    "arr = array('i',[])\n",
    "n = int(input('Range of Array: '))\n",
    "\n",
    "for i in range (n):\n",
    "    x=int(input('Array Value: '))\n",
    "    arr.append(x)\n",
    "    \n",
    "print(arr)    "
   ]
  },
  {
   "cell_type": "code",
   "execution_count": 20,
   "id": "52035bb4",
   "metadata": {},
   "outputs": [
    {
     "name": "stdout",
     "output_type": "stream",
     "text": [
      "Enter search value: 3\n",
      "2\n"
     ]
    }
   ],
   "source": [
    "val = int(input('Enter search value: '))\n",
    "k=0\n",
    "for e in arr:\n",
    "    if e== val:\n",
    "        print(k)\n",
    "        break\n",
    "    k+=1    "
   ]
  },
  {
   "cell_type": "code",
   "execution_count": 21,
   "id": "22961d9a",
   "metadata": {
    "scrolled": true
   },
   "outputs": [
    {
     "name": "stdout",
     "output_type": "stream",
     "text": [
      "Enter search value: 1\n",
      "0\n"
     ]
    }
   ],
   "source": [
    "val = int(input('Enter search value: '))\n",
    "\n",
    "print(arr.index(val))"
   ]
  },
  {
   "cell_type": "code",
   "execution_count": 22,
   "id": "9733b10f",
   "metadata": {},
   "outputs": [
    {
     "name": "stdout",
     "output_type": "stream",
     "text": [
      "Defaulting to user installation because normal site-packages is not writeable\n",
      "Requirement already satisfied: numpy in c:\\programdata\\anaconda3\\lib\\site-packages (1.23.5)\n"
     ]
    }
   ],
   "source": [
    "!pip install numpy"
   ]
  },
  {
   "cell_type": "code",
   "execution_count": 23,
   "id": "9da138b2",
   "metadata": {},
   "outputs": [],
   "source": [
    "import numpy as np"
   ]
  },
  {
   "cell_type": "code",
   "execution_count": 4,
   "id": "b5562045",
   "metadata": {},
   "outputs": [],
   "source": [
    "from numpy import *"
   ]
  },
  {
   "cell_type": "code",
   "execution_count": 25,
   "id": "8f8d7911",
   "metadata": {},
   "outputs": [
    {
     "name": "stdout",
     "output_type": "stream",
     "text": [
      "[1 2 3 4 5 6]\n"
     ]
    }
   ],
   "source": [
    "arr=array([1,2,3,4,5,6])\n",
    "print(arr)"
   ]
  },
  {
   "cell_type": "markdown",
   "id": "8bb9ed19",
   "metadata": {},
   "source": [
    "-- Ways of creating arrays in numpy: \n",
    "   we have 6 way of creating arrays in numpy\n",
    "    a)array()\n",
    "    b)linspace()\n",
    "    c)arange()\n",
    "    d)logspace()\n",
    "    e)zeros()\n",
    "    f)ones()\n",
    "\n",
    "from numpy import * \n",
    "arr =array([1,2,3,4,5])\n",
    "print(arr) \n",
    "print(arr.dtype) # int32\n",
    "\n",
    "arr =array([1,2,3,4,5.0])\n",
    "print(arr.dtype) # float\n",
    "-- automatically it will convert the data type to float\n",
    "\n",
    "arr =array([1,2,3,4,5],float)\n",
    "print(arr.dtype) # float \n",
    "-- we can also specify the data type of array \n",
    "\n",
    "b) linspace() \n",
    "-- it is used to create an array with equal interval between the elements \n",
    "-- syntax: linspace(start,stop,num=50,endpoint=True,retstep=False,dtype=None)\n",
    "arr=linspace(0,15,16) # here it break the range into 16 equal parts \n",
    "-- by default it will take 50 parts \n",
    "\n",
    "arr =linspace(0,15)\n",
    "print(arr)\n",
    "\n",
    "c) arange()\n",
    "-- it is used to create an array with equal interval between the elements\n",
    "-- syntax: arange(start,stop,step,dtype=None) \n",
    "arr =arange(1,15,2)\n",
    "print(arr) \n",
    "-- it will create an array with start value 1 and end value 15 with step size 2\n",
    "arr=arange(1,15,2.5)\n",
    "\n",
    "d) logspace()\n",
    "-- it is used to create an array with equal interval between the elements in log scale\n",
    "-- syntax: logspace(start,stop,num=50,endpoint=True,base=10.0,dtype=None) \n",
    "arr=logspace(1,40,5)\n",
    "print(arr) \n",
    "\n",
    "e) zeros()\n",
    "-- it is used to create an array with all zeros \n",
    "-- syntax: zeros(shape,dtype=float,order='C') \n",
    "arr= zeros(5)\n",
    "print(arr)\n",
    "\n",
    "\n",
    "f) ones()\n",
    "-- it is used to create an array with all ones \n",
    "-- syntax: ones(shape,dtype=float,order='C')\n",
    "arr=ones(5)\n",
    "print(arr)\n",
    "\n",
    "--if i want work with int\n",
    "arr=ones(4,int)\n",
    "print(arr)\n"
   ]
  },
  {
   "cell_type": "code",
   "execution_count": 26,
   "id": "ca2b10de",
   "metadata": {},
   "outputs": [
    {
     "name": "stdout",
     "output_type": "stream",
     "text": [
      "[1. 2. 3. 4. 5. 6.]\n"
     ]
    }
   ],
   "source": [
    "arr=array([1,2,3,4,5,6],float)\n",
    "print(arr)"
   ]
  },
  {
   "cell_type": "code",
   "execution_count": 27,
   "id": "52e1e32d",
   "metadata": {},
   "outputs": [
    {
     "data": {
      "text/plain": [
       "dtype('float64')"
      ]
     },
     "execution_count": 27,
     "metadata": {},
     "output_type": "execute_result"
    }
   ],
   "source": [
    "arr.dtype"
   ]
  },
  {
   "cell_type": "markdown",
   "id": "c1c47389",
   "metadata": {},
   "source": [
    "- Addition of values in an array\n",
    "- Different functions that can be performed on arrays\n",
    "- What is Aliasing in python?\n",
    "- Different ways of copying an array\n",
    "\n",
    "\n",
    "#1\n",
    "- We can add any value in each element of an array.\n",
    "- We can also add values of two arrays. \n",
    "- The addition of two arrays is known as Vectorized Operation.\n",
    "- We can also find the values of each element of an array of mathematical operations such as sin, cos, tan, log, sqrt etc.\n",
    "- Sum of every element of an array can also be calculated by using the sum() function.\n",
    "- Minimum value can also be get from an array through the min() function.\n",
    "- Maximum value can be get from an array by using the max() function.\n",
    "- Unique elements from an array and the sorted array can also be get.\n",
    "- Concatenation of two arrays can also be performed by using the concatenate function. This function combines two arrays.\n",
    "\n",
    "#2\n",
    "- Two variables can be pointed towards a single array. It means both variables are pointing to the same memory address where the array is stored.\n",
    "- In Python, Aliasing happens whenever one variable's value is assigned to another variable.\n",
    "- view() is a function that helps to create a new array at a new location. It means arrays should be present at the different memory addresses.\n",
    "- By using the view() functions, two variables will point towards two different arrays.\n",
    "\n",
    "#3\n",
    "- In python, two copying techniques are available i.e.,\n",
    "1. Shallow Copy\n",
    "2. Deep Copy\n",
    "- In shallow copy, it will copy elements but it means both arrays are dependent on each other.\n",
    "- In shallow copy, if we update an element in one array then the changes would also be reflected in another array.\n",
    "- In a deep copy, two different arrays are not linked with each other in any way.\n",
    "- In a deep copy, we use the function known as a copy() instead of using the view() function.\n",
    "- copy() function provides a deep copy of an array."
   ]
  },
  {
   "cell_type": "code",
   "execution_count": 28,
   "id": "e0d5be2c",
   "metadata": {},
   "outputs": [
    {
     "name": "stdout",
     "output_type": "stream",
     "text": [
      "[ 6  7  8  9 10 11]\n"
     ]
    }
   ],
   "source": [
    "arr=array([1,2,3,4,5,6])\n",
    "arr = arr+5\n",
    "print(arr)"
   ]
  },
  {
   "cell_type": "code",
   "execution_count": 29,
   "id": "338ab578",
   "metadata": {},
   "outputs": [
    {
     "data": {
      "text/plain": [
       "array([ 8, 10, 12, 14, 16, 18])"
      ]
     },
     "execution_count": 29,
     "metadata": {},
     "output_type": "execute_result"
    }
   ],
   "source": [
    "arr=array([1,2,3,4,5,6])\n",
    "arr1=array([7,8,9,10,11,12])\n",
    "arr2=arr+arr1\n",
    "arr2"
   ]
  },
  {
   "cell_type": "code",
   "execution_count": 30,
   "id": "8ccaf9b9",
   "metadata": {},
   "outputs": [
    {
     "data": {
      "text/plain": [
       "array([1.        , 1.41421356, 1.73205081, 2.        , 2.23606798,\n",
       "       2.44948974])"
      ]
     },
     "execution_count": 30,
     "metadata": {},
     "output_type": "execute_result"
    }
   ],
   "source": [
    "sqrt(arr)"
   ]
  },
  {
   "cell_type": "code",
   "execution_count": 31,
   "id": "99fd3ba1",
   "metadata": {},
   "outputs": [
    {
     "data": {
      "text/plain": [
       "1"
      ]
     },
     "execution_count": 31,
     "metadata": {},
     "output_type": "execute_result"
    }
   ],
   "source": [
    "min(arr)"
   ]
  },
  {
   "cell_type": "code",
   "execution_count": 32,
   "id": "f3191d97",
   "metadata": {},
   "outputs": [
    {
     "data": {
      "text/plain": [
       "6"
      ]
     },
     "execution_count": 32,
     "metadata": {},
     "output_type": "execute_result"
    }
   ],
   "source": [
    "max(arr)"
   ]
  },
  {
   "cell_type": "code",
   "execution_count": 33,
   "id": "b9a9f3f5",
   "metadata": {},
   "outputs": [
    {
     "data": {
      "text/plain": [
       "array([ 1,  2,  3,  4,  5,  6,  7,  8,  9, 10, 11, 12])"
      ]
     },
     "execution_count": 33,
     "metadata": {},
     "output_type": "execute_result"
    }
   ],
   "source": [
    "concatenate([arr,arr1])"
   ]
  },
  {
   "cell_type": "code",
   "execution_count": 34,
   "id": "dc1a19a7",
   "metadata": {},
   "outputs": [
    {
     "name": "stdout",
     "output_type": "stream",
     "text": [
      "[1 2 3 4 5 6]\n"
     ]
    }
   ],
   "source": [
    "print(arr)"
   ]
  },
  {
   "cell_type": "markdown",
   "id": "3fba5898",
   "metadata": {},
   "source": [
    "## Multi-Dimensional Arrays\n",
    "\n",
    "- Two-dimensional array in Python\n",
    "- Attributes available with a two-dimensional array\n",
    "- How to convert the dimensions of an array\n",
    "- Matrix in Python\n",
    "- How to convert an array into a matrix?\n",
    "- Functions used with a matrix\n",
    "\n",
    "\n",
    "#1\n",
    "- If a list contains multiple elements of the same type, then it is known as an array.\n",
    "- When an array contains another array inside it, then it is known as a two-dimensional array.\n",
    "- Two- dimensional array can be defined as an array within another array. \n",
    "- It is a collection of rows and columns.\n",
    "\n",
    "Syntax of a two-dimensional array:-\n",
    "arr= array([\n",
    "   [arr1],\n",
    "   [arr2]\n",
    "  ])\n",
    "\n",
    "#2\n",
    "Attributes with two-dimensional arrays:-\n",
    "- dtype attribute returns the data type of the data with which you are working.\n",
    "- ndim attribute gives the number of dimensions of an array and also gives the rank to an array.\n",
    "e.g, if it is a single-dimensional array then it will return 1 if three-dimensional array then it returns 3.\n",
    "It will also give the rank whether it is 1-D, 2-D and many more.\n",
    "- shape attribute returns the number of rows and the number of columns present inside an array.\n",
    "- size attribute gives the size of the entire block.\n",
    "- flatten attribute convert the 2-dimensional array into a single-dimensional array.\n",
    "\n",
    "#3\n",
    "- reshape attribute is used to change the dimensions of an array. We can convert a 1-D array to a 2-D array by using the reshape method.\n",
    "- reshape(r,c) method takes two parameters ie., the number of rows and a number of columns, that you want in an updated array.\n",
    "-  reshape attribute also works with a 3-D array. In 3-D, we have multiple 2-D arrays. And a 2-D array contains multiple 1-D arrays.\n",
    "\n",
    "#4\n",
    "- Matrices can be defined as a two-dimensional array that has multiple rows and columns.\n",
    "- A matrix that has one row and multiple columns is known as a row matrix.\n",
    "-  A matrix having one column and multiple rows is known as a column matrix.\n",
    "- Both the row matrix and column matrix is in the form of a single-dimensional array.\n",
    "- A separate format available for a matrix in python.\n",
    "\n",
    "#5\n",
    "Functions with matrix:-\n",
    "- matix() attribute is used to convert an array into a matrix format.\n",
    "- We can also create a matrix without using an array. It can also be created directly by using the matrix() attribute.\n",
    " matrix('1 2  3 6 ; 4 5 6 7')\n",
    "In this, values are separated by using the space, and rows are separated by using the semicolon.\n",
    "- A diagonal () function can be used to only print the diagonal elements of an array.\n",
    "- min() function will give the minimum value element from an array.\n",
    "- max() function is used to get the maximum value element of an array.\n",
    "- There is a certain number of rules that should be followed in matrix multiplication.\n"
   ]
  },
  {
   "cell_type": "code",
   "execution_count": 37,
   "id": "867906f9",
   "metadata": {},
   "outputs": [
    {
     "name": "stdout",
     "output_type": "stream",
     "text": [
      "[[1 2 3]\n",
      " [4 5 6]]\n"
     ]
    }
   ],
   "source": [
    "arr1=array([[1,2,3],[4,5,6]])\n",
    "print(arr1)"
   ]
  },
  {
   "cell_type": "code",
   "execution_count": 38,
   "id": "cccb6442",
   "metadata": {},
   "outputs": [
    {
     "name": "stdout",
     "output_type": "stream",
     "text": [
      "2\n"
     ]
    }
   ],
   "source": [
    "print(arr1.ndim)"
   ]
  },
  {
   "cell_type": "code",
   "execution_count": 40,
   "id": "9b7c8aea",
   "metadata": {},
   "outputs": [
    {
     "data": {
      "text/plain": [
       "array([[ 1,  2,  3,  4],\n",
       "       [ 5,  6,  7,  8],\n",
       "       [ 9, 10, 11, 12]])"
      ]
     },
     "execution_count": 40,
     "metadata": {},
     "output_type": "execute_result"
    }
   ],
   "source": [
    "arr2 = array([[1,2,3,4,5,6],[7,8,9,10,11,12]])\n",
    "arr2.reshape(3,4)"
   ]
  },
  {
   "cell_type": "code",
   "execution_count": 41,
   "id": "3bb364af",
   "metadata": {},
   "outputs": [
    {
     "data": {
      "text/plain": [
       "array([[[ 1,  2,  3],\n",
       "        [ 4,  5,  6]],\n",
       "\n",
       "       [[ 7,  8,  9],\n",
       "        [10, 11, 12]]])"
      ]
     },
     "execution_count": 41,
     "metadata": {},
     "output_type": "execute_result"
    }
   ],
   "source": [
    "arr2.reshape(2,2,3)"
   ]
  },
  {
   "cell_type": "code",
   "execution_count": 42,
   "id": "a81ee1d5",
   "metadata": {},
   "outputs": [
    {
     "data": {
      "text/plain": [
       "array([[[ 1,  2],\n",
       "        [ 3,  4]],\n",
       "\n",
       "       [[ 5,  6],\n",
       "        [ 7,  8]],\n",
       "\n",
       "       [[ 9, 10],\n",
       "        [11, 12]]])"
      ]
     },
     "execution_count": 42,
     "metadata": {},
     "output_type": "execute_result"
    }
   ],
   "source": [
    "arr2.reshape(3,2,2)"
   ]
  },
  {
   "cell_type": "code",
   "execution_count": 43,
   "id": "27026e42",
   "metadata": {},
   "outputs": [
    {
     "name": "stdout",
     "output_type": "stream",
     "text": [
      "[[1 2 3]\n",
      " [4 5 6]]\n"
     ]
    }
   ],
   "source": [
    "print(arr1)"
   ]
  },
  {
   "cell_type": "code",
   "execution_count": 46,
   "id": "f913d4ed",
   "metadata": {},
   "outputs": [
    {
     "name": "stdout",
     "output_type": "stream",
     "text": [
      "[[1 2 3]\n",
      " [4 5 6]]\n"
     ]
    }
   ],
   "source": [
    "m=matrix(arr1)\n",
    "print(m)"
   ]
  },
  {
   "cell_type": "code",
   "execution_count": 53,
   "id": "26fe6fe8",
   "metadata": {},
   "outputs": [
    {
     "name": "stdout",
     "output_type": "stream",
     "text": [
      "[[ 1  2]\n",
      " [ 3  4]\n",
      " [ 5  6]\n",
      " [ 7  8]\n",
      " [ 9 10]]\n"
     ]
    }
   ],
   "source": [
    "m1 = matrix('1 2; 3 4; 5 6; 7 8; 9 10')\n",
    "print(m1)"
   ]
  },
  {
   "cell_type": "code",
   "execution_count": 49,
   "id": "44403838",
   "metadata": {},
   "outputs": [
    {
     "name": "stdout",
     "output_type": "stream",
     "text": [
      "[1 4]\n"
     ]
    }
   ],
   "source": [
    "print(diagonal(m1))"
   ]
  },
  {
   "cell_type": "code",
   "execution_count": 51,
   "id": "393af109",
   "metadata": {},
   "outputs": [
    {
     "name": "stdout",
     "output_type": "stream",
     "text": [
      "1\n"
     ]
    }
   ],
   "source": [
    "print(m1.min())"
   ]
  },
  {
   "cell_type": "code",
   "execution_count": 7,
   "id": "713c44fd",
   "metadata": {},
   "outputs": [
    {
     "name": "stdout",
     "output_type": "stream",
     "text": [
      "[[ 90  96 102]\n",
      " [216 231 246]\n",
      " [342 366 390]]\n"
     ]
    }
   ],
   "source": [
    "m2 = matrix('1 2 3; 4 5 6; 7 8 9')\n",
    "m3 = matrix('11 12 13; 14 15 16; 17 18 19')\n",
    "m4 = m2*m3;\n",
    "print(m4)"
   ]
  },
  {
   "cell_type": "code",
   "execution_count": null,
   "id": "46b13058",
   "metadata": {},
   "outputs": [],
   "source": []
  }
 ],
 "metadata": {
  "kernelspec": {
   "display_name": "Python 3 (ipykernel)",
   "language": "python",
   "name": "python3"
  },
  "language_info": {
   "codemirror_mode": {
    "name": "ipython",
    "version": 3
   },
   "file_extension": ".py",
   "mimetype": "text/x-python",
   "name": "python",
   "nbconvert_exporter": "python",
   "pygments_lexer": "ipython3",
   "version": "3.10.9"
  }
 },
 "nbformat": 4,
 "nbformat_minor": 5
}
